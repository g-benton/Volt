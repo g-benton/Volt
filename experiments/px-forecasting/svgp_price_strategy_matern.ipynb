{
 "cells": [
  {
   "cell_type": "code",
   "execution_count": 3,
   "metadata": {},
   "outputs": [],
   "source": [
    "import numpy as np\n",
    "import matplotlib.pyplot as plt\n",
    "import seaborn as sns\n",
    "import torch\n",
    "import gpytorch\n",
    "# from voltron.robinhood_utils import GetStockData\n",
    "import os\n",
    "import pandas as pd\n",
    "# import robin_stocks.robinhood as r\n",
    "import pickle5 as pickle\n",
    "\n",
    "sns.set_style(\"whitegrid\")\n",
    "sns.set_palette(\"bright\")\n",
    "\n",
    "sns.set(font_scale=2.0)\n",
    "sns.set_style('whitegrid')\n",
    "\n",
    "import sys\n",
    "sys.path.append(\"../\")\n",
    "from botorch.models import SingleTaskGP\n",
    "from voltron.means import LogLinearMean\n",
    "from gpytorch.kernels import ScaleKernel, RBFKernel, MaternKernel"
   ]
  },
  {
   "cell_type": "code",
   "execution_count": 2,
   "metadata": {},
   "outputs": [],
   "source": [
    "# with open(\"../../stock_data.pkl\", \"rb\") as handle:\n",
    "#     raw_data = pickle.load(handle)\n",
    "    \n",
    "with open(\"./stock_data.pkl\", \"rb\") as handle:\n",
    "    raw_data = pickle.load(handle)"
   ]
  },
  {
   "cell_type": "code",
   "execution_count": 4,
   "metadata": {},
   "outputs": [
    {
     "data": {
      "text/html": [
       "<div>\n",
       "<style scoped>\n",
       "    .dataframe tbody tr th:only-of-type {\n",
       "        vertical-align: middle;\n",
       "    }\n",
       "\n",
       "    .dataframe tbody tr th {\n",
       "        vertical-align: top;\n",
       "    }\n",
       "\n",
       "    .dataframe thead th {\n",
       "        text-align: right;\n",
       "    }\n",
       "</style>\n",
       "<table border=\"1\" class=\"dataframe\">\n",
       "  <thead>\n",
       "    <tr style=\"text-align: right;\">\n",
       "      <th></th>\n",
       "      <th>date</th>\n",
       "      <th>symbol</th>\n",
       "      <th>open_price</th>\n",
       "      <th>close_price</th>\n",
       "      <th>high_price</th>\n",
       "      <th>low_price</th>\n",
       "    </tr>\n",
       "  </thead>\n",
       "  <tbody>\n",
       "    <tr>\n",
       "      <th>0</th>\n",
       "      <td>2016-09-26</td>\n",
       "      <td>XOM</td>\n",
       "      <td>83.52</td>\n",
       "      <td>83.06</td>\n",
       "      <td>84.5000</td>\n",
       "      <td>82.9300</td>\n",
       "    </tr>\n",
       "    <tr>\n",
       "      <th>1</th>\n",
       "      <td>2016-09-27</td>\n",
       "      <td>XOM</td>\n",
       "      <td>82.59</td>\n",
       "      <td>83.24</td>\n",
       "      <td>83.3400</td>\n",
       "      <td>82.2900</td>\n",
       "    </tr>\n",
       "    <tr>\n",
       "      <th>2</th>\n",
       "      <td>2016-09-28</td>\n",
       "      <td>XOM</td>\n",
       "      <td>83.46</td>\n",
       "      <td>86.90</td>\n",
       "      <td>87.2300</td>\n",
       "      <td>83.3400</td>\n",
       "    </tr>\n",
       "    <tr>\n",
       "      <th>3</th>\n",
       "      <td>2016-09-29</td>\n",
       "      <td>XOM</td>\n",
       "      <td>86.97</td>\n",
       "      <td>86.46</td>\n",
       "      <td>87.2000</td>\n",
       "      <td>85.6750</td>\n",
       "    </tr>\n",
       "    <tr>\n",
       "      <th>4</th>\n",
       "      <td>2016-09-30</td>\n",
       "      <td>XOM</td>\n",
       "      <td>86.84</td>\n",
       "      <td>87.28</td>\n",
       "      <td>87.8100</td>\n",
       "      <td>86.6500</td>\n",
       "    </tr>\n",
       "    <tr>\n",
       "      <th>...</th>\n",
       "      <td>...</td>\n",
       "      <td>...</td>\n",
       "      <td>...</td>\n",
       "      <td>...</td>\n",
       "      <td>...</td>\n",
       "      <td>...</td>\n",
       "    </tr>\n",
       "    <tr>\n",
       "      <th>6290</th>\n",
       "      <td>2021-09-17</td>\n",
       "      <td>SLB</td>\n",
       "      <td>28.70</td>\n",
       "      <td>28.31</td>\n",
       "      <td>29.2600</td>\n",
       "      <td>28.0000</td>\n",
       "    </tr>\n",
       "    <tr>\n",
       "      <th>6291</th>\n",
       "      <td>2021-09-20</td>\n",
       "      <td>SLB</td>\n",
       "      <td>27.37</td>\n",
       "      <td>27.25</td>\n",
       "      <td>27.7077</td>\n",
       "      <td>26.7050</td>\n",
       "    </tr>\n",
       "    <tr>\n",
       "      <th>6292</th>\n",
       "      <td>2021-09-21</td>\n",
       "      <td>SLB</td>\n",
       "      <td>27.61</td>\n",
       "      <td>26.93</td>\n",
       "      <td>27.7800</td>\n",
       "      <td>26.6400</td>\n",
       "    </tr>\n",
       "    <tr>\n",
       "      <th>6293</th>\n",
       "      <td>2021-09-22</td>\n",
       "      <td>SLB</td>\n",
       "      <td>27.51</td>\n",
       "      <td>27.15</td>\n",
       "      <td>27.8100</td>\n",
       "      <td>27.1200</td>\n",
       "    </tr>\n",
       "    <tr>\n",
       "      <th>6294</th>\n",
       "      <td>2021-09-23</td>\n",
       "      <td>SLB</td>\n",
       "      <td>27.32</td>\n",
       "      <td>28.88</td>\n",
       "      <td>29.1250</td>\n",
       "      <td>27.2265</td>\n",
       "    </tr>\n",
       "  </tbody>\n",
       "</table>\n",
       "<p>6295 rows × 6 columns</p>\n",
       "</div>"
      ],
      "text/plain": [
       "            date symbol  open_price  close_price  high_price  low_price\n",
       "0     2016-09-26    XOM       83.52        83.06     84.5000    82.9300\n",
       "1     2016-09-27    XOM       82.59        83.24     83.3400    82.2900\n",
       "2     2016-09-28    XOM       83.46        86.90     87.2300    83.3400\n",
       "3     2016-09-29    XOM       86.97        86.46     87.2000    85.6750\n",
       "4     2016-09-30    XOM       86.84        87.28     87.8100    86.6500\n",
       "...          ...    ...         ...          ...         ...        ...\n",
       "6290  2021-09-17    SLB       28.70        28.31     29.2600    28.0000\n",
       "6291  2021-09-20    SLB       27.37        27.25     27.7077    26.7050\n",
       "6292  2021-09-21    SLB       27.61        26.93     27.7800    26.6400\n",
       "6293  2021-09-22    SLB       27.51        27.15     27.8100    27.1200\n",
       "6294  2021-09-23    SLB       27.32        28.88     29.1250    27.2265\n",
       "\n",
       "[6295 rows x 6 columns]"
      ]
     },
     "execution_count": 4,
     "metadata": {},
     "output_type": "execute_result"
    }
   ],
   "source": [
    "pd.read_pickle(\"../../spdr-data/XLE.pkl\")"
   ]
  },
  {
   "cell_type": "code",
   "execution_count": 25,
   "metadata": {},
   "outputs": [
    {
     "data": {
      "text/plain": [
       "array(['AAPL', 'F', 'JPM', 'SBUX', 'TSLA', 'VIRT'], dtype=object)"
      ]
     },
     "execution_count": 25,
     "metadata": {},
     "output_type": "execute_result"
    }
   ],
   "source": [
    "np.unique(raw_data[\"symbol\"])"
   ]
  },
  {
   "cell_type": "markdown",
   "metadata": {},
   "source": [
    "# Header"
   ]
  },
  {
   "cell_type": "code",
   "execution_count": 26,
   "metadata": {},
   "outputs": [],
   "source": [
    "ntest = 200\n",
    "ntrain = 200\n",
    "tckrs = ['TSLA', \"F\", \"JPM\", \"SBUX\", 'AAPL', \"VIRT\"]\n",
    "tckr = \"VIRT\"\n",
    "span = \"5year\"\n",
    "interval = 'day'\n",
    "T = 5."
   ]
  },
  {
   "cell_type": "markdown",
   "metadata": {},
   "source": [
    "## Data Setup"
   ]
  },
  {
   "cell_type": "code",
   "execution_count": 27,
   "metadata": {},
   "outputs": [
    {
     "data": {
      "image/png": "[encoded data removed]",
      "text/plain": [
       "<Figure size 432x288 with 1 Axes>"
      ]
     },
     "metadata": {},
     "output_type": "display_data"
    }
   ],
   "source": [
    "idx = -2\n",
    "# data = GetStockData(tckr, span=span, interval=interval)\n",
    "data = raw_data[raw_data[\"symbol\"] == tckr]\n",
    "\n",
    "ts = torch.linspace(0, T, data.shape[0])\n",
    "# train_x = ts[:ntrain]\n",
    "# test_x = ts[ntrain:(ntrain+ntest)]\n",
    "\n",
    "y = torch.FloatTensor(data['close_price'].to_numpy())\n",
    "log_returns = torch.log(y[1:]) - torch.log(y[:-1])\n",
    "# train_y = y[:ntrain]\n",
    "# test_y = y[ntrain:(ntrain+ntest)]\n",
    "\n",
    "dt = ts[1] - ts[0]\n",
    "\n",
    "plt.plot(ts, y)\n",
    "plt.title(tckr);\n",
    "sns.despine()\n",
    "plt.show()"
   ]
  },
  {
   "cell_type": "code",
   "execution_count": 28,
   "metadata": {},
   "outputs": [
    {
     "data": {
      "text/plain": [
       "torch.Size([1259])"
      ]
     },
     "execution_count": 28,
     "metadata": {},
     "output_type": "execute_result"
    }
   ],
   "source": [
    "ts.shape"
   ]
  },
  {
   "cell_type": "markdown",
   "metadata": {},
   "source": [
    "## Now apply GCPV"
   ]
  },
  {
   "cell_type": "code",
   "execution_count": 33,
   "metadata": {},
   "outputs": [],
   "source": [
    "def get_and_fit_data_model(train_x, train_y, pred_vol=None, vol_model=None):\n",
    "    voltron_lh = gpytorch.likelihoods.GaussianLikelihood()\n",
    "#     voltron = VoltronGP(train_x, train_y.log(), voltron_lh, pred_vol)\n",
    "    model = SingleTaskGP(train_x.view(-1,1), train_y.log().view(-1,1), likelihood=voltron_lh)\n",
    "    model.mean_module = gpytorch.means.LinearMean(1)\n",
    "    model.mean_module = LogLinearMean(1)\n",
    "    model.mean_module.initialize_from_data(train_x, train_y.log())\n",
    "    model.likelihood.raw_noise.data = torch.tensor([1e-6])\n",
    "\n",
    "    # Use the adam optimizer\n",
    "    optimizer = torch.optim.Adam([\n",
    "        {'params': model.parameters()},  # Includes GaussianLikelihood parameters\n",
    "    ], lr=0.1)\n",
    "\n",
    "    # \"Loss\" for GPs - the marginal log likelihood\n",
    "    mll = gpytorch.mlls.ExactMarginalLogLikelihood(voltron_lh, model)\n",
    "\n",
    "    for i in range(500):\n",
    "        # Zero gradients from previous iteration\n",
    "        optimizer.zero_grad()\n",
    "        # Output from model\n",
    "        output = model(train_x)\n",
    "        # Calc loss and backprop gradients\n",
    "        loss = -mll(output, train_y.log())\n",
    "        loss.backward()\n",
    "        # print(loss.item())\n",
    "        optimizer.step()\n",
    "    return model"
   ]
  },
  {
   "cell_type": "code",
   "execution_count": 43,
   "metadata": {},
   "outputs": [],
   "source": [
    "def predict_prices(test_x, voltron, nvol=10, npx=10):\n",
    "    ntest = test_x.shape[0]\n",
    "    # vol_paths = torch.zeros(nvol, ntest)\n",
    "    px_paths = torch.zeros(npx*nvol, ntest)\n",
    "\n",
    "    # voltron.vol_model.eval();\n",
    "    # voltron.eval();\n",
    "\n",
    "    px_paths = voltron.posterior(test_x).sample(torch.Size(((nvol * npx),))).exp().squeeze(-1)\n",
    "#     for vidx in range(nvol * npx):\n",
    "#         vol_pred = voltron.vol_model(test_x).sample().exp()\n",
    "#         vol_paths[vidx, :] = vol_pred.detach()\n",
    "\n",
    "#         px_pred = voltron.GeneratePrediction(test_x, vol_pred, npx).exp()\n",
    "#         px_paths[vidx*npx:(vidx*npx+npx), :] = px_pred.detach().T\n",
    "    return px_paths"
   ]
  },
  {
   "cell_type": "code",
   "execution_count": 44,
   "metadata": {},
   "outputs": [],
   "source": [
    "eval_times = list(range(100, ts.shape[0], 100)) #+ [ts.shape[0]]"
   ]
  },
  {
   "cell_type": "code",
   "execution_count": 45,
   "metadata": {},
   "outputs": [
    {
     "name": "stdout",
     "output_type": "stream",
     "text": [
      "now running time:  100\n",
      "prob of stock increase:  tensor(0.6900)\n",
      "now running time:  200\n",
      "prob of stock increase:  tensor(0.8200)\n",
      "now running time:  300\n",
      "prob of stock increase:  tensor(0.7900)\n",
      "now running time:  400\n",
      "prob of stock increase:  tensor(0.)\n",
      "now running time:  500\n",
      "prob of stock increase:  tensor(0.9700)\n",
      "now running time:  600\n",
      "prob of stock increase:  tensor(0.7300)\n",
      "now running time:  700\n",
      "prob of stock increase:  tensor(0.9600)\n",
      "now running time:  800\n",
      "prob of stock increase:  tensor(0.9900)\n",
      "now running time:  900\n",
      "prob of stock increase:  tensor(0.4300)\n",
      "now running time:  1000\n",
      "prob of stock increase:  tensor(0.2900)\n",
      "now running time:  1100\n",
      "prob of stock increase:  tensor(0.3400)\n",
      "now running time:  1200\n",
      "prob of stock increase:  tensor(0.4200)\n"
     ]
    }
   ],
   "source": [
    "prob_of_increases = []\n",
    "\n",
    "for i, time in enumerate(eval_times):\n",
    "    print(\"now running time: \", time)\n",
    "    with gpytorch.settings.max_cholesky_size(2000):\n",
    "        # pred_vol = get_and_fit_gpcv(ts[:time], log_returns[:(time - 1)])\n",
    "        # vol_model = get_and_fit_vol_model(ts[:time], pred_vol)\n",
    "        data_model = get_and_fit_data_model(ts[:time], y[:time], None, None)\n",
    "        end_ind = -1 if i + 1 >= len(eval_times) else eval_times[i+1]\n",
    "        paths = predict_prices(ts[time:end_ind], data_model).detach()\n",
    "        # now we predict the probability of increase at time i + 1\n",
    "        prob_of_increase = (paths[..., -1] > y[time]).sum() / paths.shape[-2]\n",
    "        print(\"prob of stock increase: \", prob_of_increase.detach())\n",
    "\n",
    "    prob_of_increases.append(prob_of_increase.detach())"
   ]
  },
  {
   "cell_type": "code",
   "execution_count": 68,
   "metadata": {},
   "outputs": [
    {
     "data": {
      "text/plain": [
       "True"
      ]
     },
     "execution_count": 68,
     "metadata": {},
     "output_type": "execute_result"
    }
   ],
   "source": [
    "i+1 >= len(eval_times)"
   ]
  },
  {
   "cell_type": "code",
   "execution_count": 69,
   "metadata": {},
   "outputs": [
    {
     "data": {
      "text/plain": [
       "Text(0, 0.5, 'Prob of Stock Increasing')"
      ]
     },
     "execution_count": 69,
     "metadata": {},
     "output_type": "execute_result"
    },
    {
     "data": {
      "image/png": "[encoded data removed]",
      "text/plain": [
       "<Figure size 432x288 with 1 Axes>"
      ]
     },
     "metadata": {},
     "output_type": "display_data"
    }
   ],
   "source": [
    "plt.plot(eval_times, prob_of_increases)\n",
    "plt.xlabel(\"Time\")\n",
    "plt.ylabel(\"Prob of Stock Increasing\")"
   ]
  },
  {
   "cell_type": "code",
   "execution_count": 70,
   "metadata": {},
   "outputs": [],
   "source": [
    "torch.save(obj=prob_of_increases, f=\"matern_v.pt\")"
   ]
  },
  {
   "cell_type": "code",
   "execution_count": 48,
   "metadata": {},
   "outputs": [],
   "source": [
    "from torch.distributions import Beta\n",
    "from scipy.special import betainc"
   ]
  },
  {
   "cell_type": "code",
   "execution_count": 49,
   "metadata": {},
   "outputs": [],
   "source": [
    "xs = torch.linspace(0, 1, 100)"
   ]
  },
  {
   "cell_type": "code",
   "execution_count": 50,
   "metadata": {},
   "outputs": [],
   "source": [
    "prob_incs = torch.tensor(prob_of_increases)"
   ]
  },
  {
   "cell_type": "code",
   "execution_count": 51,
   "metadata": {},
   "outputs": [],
   "source": [
    "bought_func = lambda xs: betainc(8, 1, xs)\n",
    "total_held = 1000 * bought_func(prob_incs)[:-1] "
   ]
  },
  {
   "cell_type": "code",
   "execution_count": 52,
   "metadata": {},
   "outputs": [
    {
     "data": {
      "text/plain": [
       "Text(0.5, 0, 'Time')"
      ]
     },
     "execution_count": 52,
     "metadata": {},
     "output_type": "execute_result"
    },
    {
     "data": {
      "image/png": "[encoded data removed]",
      "text/plain": [
       "<Figure size 432x288 with 1 Axes>"
      ]
     },
     "metadata": {},
     "output_type": "display_data"
    }
   ],
   "source": [
    "plt.plot(eval_times[:-1], total_held, marker = \"x\")\n",
    "plt.ylabel(\"Num Held\")\n",
    "plt.xlabel(\"Time\")"
   ]
  }
 ],
 "metadata": {
  "kernelspec": {
   "display_name": "Python 3",
   "language": "python",
   "name": "python3"
  },
  "language_info": {
   "codemirror_mode": {
    "name": "ipython",
    "version": 3
   },
   "file_extension": ".py",
   "mimetype": "text/x-python",
   "name": "python",
   "nbconvert_exporter": "python",
   "pygments_lexer": "ipython3",
   "version": "3.8.3"
  }
 },
 "nbformat": 4,
 "nbformat_minor": 4
}
