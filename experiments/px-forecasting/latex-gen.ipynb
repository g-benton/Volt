{
 "cells": [
  {
   "cell_type": "code",
   "execution_count": 15,
   "id": "ddc44d8f",
   "metadata": {},
   "outputs": [],
   "source": [
    "import os\n",
    "import glob"
   ]
  },
  {
   "cell_type": "code",
   "execution_count": 29,
   "id": "79dbbbf6",
   "metadata": {},
   "outputs": [],
   "source": [
    "start = r\"\"\"\n",
    "\\begin{figure}\n",
    "    \\centering\n",
    "    \\includegraphics[width=\\linewidth]{figs/\"\"\"\n",
    "\n",
    "mid = r\"\"\"}\n",
    "    \\caption{Trading Strategy for \"\"\"\n",
    "end = \"\"\".}\n",
    "\\end{figure}\n",
    "\"\"\""
   ]
  },
  {
   "cell_type": "code",
   "execution_count": 26,
   "id": "ef42d2c4",
   "metadata": {},
   "outputs": [],
   "source": [
    "files = glob.glob(\"./trading*\")"
   ]
  },
  {
   "cell_type": "code",
   "execution_count": 27,
   "id": "40d9639b",
   "metadata": {},
   "outputs": [
    {
     "data": {
      "text/plain": [
       "'WFC'"
      ]
     },
     "execution_count": 27,
     "metadata": {},
     "output_type": "execute_result"
    }
   ],
   "source": [
    "files[0].split(\"_\")[-1][:-4]"
   ]
  },
  {
   "cell_type": "code",
   "execution_count": 30,
   "id": "c802c9e3",
   "metadata": {},
   "outputs": [
    {
     "name": "stdout",
     "output_type": "stream",
     "text": [
      "\n",
      "\\begin{figure}\n",
      "    \\centering\n",
      "    \\includegraphics[width=\\linewidth]{figs/./trading_strategy_WFC.pdf}\n",
      "    \\caption{Trading Strategy for WFC.}\n",
      "\\end{figure}\n",
      "\n"
     ]
    }
   ],
   "source": [
    "print(start + files[0] + mid + files[0].split(\"_\")[-1][:-4] + end)"
   ]
  },
  {
   "cell_type": "code",
   "execution_count": 37,
   "id": "b8a6a5fa",
   "metadata": {},
   "outputs": [
    {
     "name": "stdout",
     "output_type": "stream",
     "text": [
      "\n",
      "\\begin{figure}\n",
      "    \\centering\n",
      "    \\includegraphics[width=\\linewidth]{figs/trading_strategy_WFC.pdf}\n",
      "    \\caption{Trading Strategy for WFC.}\n",
      "\\end{figure}\n",
      "\n",
      "\n",
      "\\begin{figure}\n",
      "    \\centering\n",
      "    \\includegraphics[width=\\linewidth]{figs/trading_strategy_PLD.pdf}\n",
      "    \\caption{Trading Strategy for PLD.}\n",
      "\\end{figure}\n",
      "\n",
      "\n",
      "\\begin{figure}\n",
      "    \\centering\n",
      "    \\includegraphics[width=\\linewidth]{figs/trading_strategy_EOG.pdf}\n",
      "    \\caption{Trading Strategy for EOG.}\n",
      "\\end{figure}\n",
      "\n",
      "\n",
      "\\begin{figure}\n",
      "    \\centering\n",
      "    \\includegraphics[width=\\linewidth]{figs/trading_strategy_COP.pdf}\n",
      "    \\caption{Trading Strategy for COP.}\n",
      "\\end{figure}\n",
      "\n",
      "\n",
      "\\begin{figure}\n",
      "    \\centering\n",
      "    \\includegraphics[width=\\linewidth]{figs/trading_strategy_JPM.pdf}\n",
      "    \\caption{Trading Strategy for JPM.}\n",
      "\\end{figure}\n",
      "\n",
      "\n",
      "\\begin{figure}\n",
      "    \\centering\n",
      "    \\includegraphics[width=\\linewidth]{figs/trading_strategy_BRK.B.pdf}\n",
      "    \\caption{Trading Strategy for BRK.B.}\n",
      "\\end{figure}\n",
      "\n",
      "\n",
      "\\begin{figure}\n",
      "    \\centering\n",
      "    \\includegraphics[width=\\linewidth]{figs/trading_strategy_BLK.pdf}\n",
      "    \\caption{Trading Strategy for BLK.}\n",
      "\\end{figure}\n",
      "\n",
      "\n",
      "\\begin{figure}\n",
      "    \\centering\n",
      "    \\includegraphics[width=\\linewidth]{figs/trading_strategy_C.pdf}\n",
      "    \\caption{Trading Strategy for C.}\n",
      "\\end{figure}\n",
      "\n",
      "\n",
      "\\begin{figure}\n",
      "    \\centering\n",
      "    \\includegraphics[width=\\linewidth]{figs/trading_strategy_SLB.pdf}\n",
      "    \\caption{Trading Strategy for SLB.}\n",
      "\\end{figure}\n",
      "\n",
      "\n",
      "\\begin{figure}\n",
      "    \\centering\n",
      "    \\includegraphics[width=\\linewidth]{figs/trading_strategy_BAC.pdf}\n",
      "    \\caption{Trading Strategy for BAC.}\n",
      "\\end{figure}\n",
      "\n",
      "\n",
      "\\begin{figure}\n",
      "    \\centering\n",
      "    \\includegraphics[width=\\linewidth]{figs/trading_strategy_MS.pdf}\n",
      "    \\caption{Trading Strategy for MS.}\n",
      "\\end{figure}\n",
      "\n",
      "\n",
      "\\begin{figure}\n",
      "    \\centering\n",
      "    \\includegraphics[width=\\linewidth]{figs/trading_strategy_SCHW.pdf}\n",
      "    \\caption{Trading Strategy for SCHW.}\n",
      "\\end{figure}\n",
      "\n",
      "\n",
      "\\begin{figure}\n",
      "    \\centering\n",
      "    \\includegraphics[width=\\linewidth]{figs/trading_strategy_GS.pdf}\n",
      "    \\caption{Trading Strategy for GS.}\n",
      "\\end{figure}\n",
      "\n",
      "\n",
      "\\begin{figure}\n",
      "    \\centering\n",
      "    \\includegraphics[width=\\linewidth]{figs/trading_strategy_CCI.pdf}\n",
      "    \\caption{Trading Strategy for CCI.}\n",
      "\\end{figure}\n",
      "\n",
      "\n",
      "\\begin{figure}\n",
      "    \\centering\n",
      "    \\includegraphics[width=\\linewidth]{figs/trading_strategy_AMT.pdf}\n",
      "    \\caption{Trading Strategy for AMT.}\n",
      "\\end{figure}\n",
      "\n",
      "\n",
      "\\begin{figure}\n",
      "    \\centering\n",
      "    \\includegraphics[width=\\linewidth]{figs/trading_strategy_XOM.pdf}\n",
      "    \\caption{Trading Strategy for XOM.}\n",
      "\\end{figure}\n",
      "\n",
      "\n",
      "\\begin{figure}\n",
      "    \\centering\n",
      "    \\includegraphics[width=\\linewidth]{figs/trading_strategy_CVX.pdf}\n",
      "    \\caption{Trading Strategy for CVX.}\n",
      "\\end{figure}\n",
      "\n",
      "\n",
      "\\begin{figure}\n",
      "    \\centering\n",
      "    \\includegraphics[width=\\linewidth]{figs/trading_strategy_EQIX.pdf}\n",
      "    \\caption{Trading Strategy for EQIX.}\n",
      "\\end{figure}\n",
      "\n",
      "\n",
      "\\begin{figure}\n",
      "    \\centering\n",
      "    \\includegraphics[width=\\linewidth]{figs/trading_strategy_AXP.pdf}\n",
      "    \\caption{Trading Strategy for AXP.}\n",
      "\\end{figure}\n",
      "\n"
     ]
    }
   ],
   "source": [
    "for stck in files:\n",
    "    tckr = stck.split(\"_\")[-1][:-4]\n",
    "    print(start + stck[2:] + mid + tckr + end)"
   ]
  },
  {
   "cell_type": "code",
   "execution_count": null,
   "id": "c9e72667",
   "metadata": {},
   "outputs": [],
   "source": []
  }
 ],
 "metadata": {
  "kernelspec": {
   "display_name": "Python 3",
   "language": "python",
   "name": "python3"
  },
  "language_info": {
   "codemirror_mode": {
    "name": "ipython",
    "version": 3
   },
   "file_extension": ".py",
   "mimetype": "text/x-python",
   "name": "python",
   "nbconvert_exporter": "python",
   "pygments_lexer": "ipython3",
   "version": "3.8.3"
  }
 },
 "nbformat": 4,
 "nbformat_minor": 5
}
