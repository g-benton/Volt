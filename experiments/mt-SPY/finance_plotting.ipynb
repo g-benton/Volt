{
 "cells": [
  {
   "cell_type": "code",
   "execution_count": 1,
   "id": "93e12f63",
   "metadata": {},
   "outputs": [
    {
     "name": "stdout",
     "output_type": "stream",
     "text": [
      "[pyKeOps]: Warning, no cuda detected. Switching to cpu only.\n"
     ]
    }
   ],
   "source": [
    "import numpy as np\n",
    "import matplotlib.pyplot as plt\n",
    "import seaborn as sns\n",
    "import torch\n",
    "import gpytorch\n",
    "import os\n",
    "import pickle5 as pickle\n",
    "\n",
    "sns.set_style('white')\n",
    "# style.use('whitegrid')\n",
    "palette = [\"#1b4079\", \"#C6DDF0\", \"#048A81\", \"#B9E28C\", \"#8C2155\", \"#AF7595\", \"#E6480F\", \"#FA9500\"]\n",
    "sns.set(palette = palette, font_scale=2.0, style=\"white\", rc={\"lines.linewidth\": 4.0})\n",
    "\n",
    "# import joypy\n",
    "import pandas as pd"
   ]
  },
  {
   "cell_type": "code",
   "execution_count": 2,
   "id": "dea9272c",
   "metadata": {},
   "outputs": [],
   "source": [
    "mt_preds = torch.load(\"finance_mt_preds_3.pt\")"
   ]
  },
  {
   "cell_type": "code",
   "execution_count": 3,
   "id": "442cc7f8",
   "metadata": {},
   "outputs": [
    {
     "name": "stdout",
     "output_type": "stream",
     "text": [
      "8 8\n"
     ]
    }
   ],
   "source": [
    "mt_x_list = mt_preds[\"x_paths\"]\n",
    "\n",
    "train_splits = list(range(252, 1259, int(252/2)))\n",
    "eval_splits = list(range(252+int(252/2), 1259, int(252/2))) + [1259]\n",
    "print(len(train_splits), len(eval_splits))"
   ]
  },
  {
   "cell_type": "code",
   "execution_count": 4,
   "id": "c80581c1",
   "metadata": {},
   "outputs": [],
   "source": [
    "train_splits.insert(0,0)"
   ]
  },
  {
   "cell_type": "code",
   "execution_count": 5,
   "id": "cc856c43",
   "metadata": {},
   "outputs": [],
   "source": [
    "ind_preds = torch.load(\"finance_ind_preds.pt\", map_location=\"cpu\")\n",
    "ind_x_list = ind_preds[\"x_paths\"]"
   ]
  },
  {
   "cell_type": "code",
   "execution_count": 6,
   "id": "b3eda070",
   "metadata": {},
   "outputs": [],
   "source": [
    "times = np.arange(0, int(252/2), 20)\n",
    "times[-1] -= 2"
   ]
  },
  {
   "cell_type": "code",
   "execution_count": 7,
   "id": "e8163cb1",
   "metadata": {},
   "outputs": [],
   "source": [
    "full_data = ind_preds[\"y\"]"
   ]
  },
  {
   "cell_type": "code",
   "execution_count": 8,
   "id": "3b5acbf4",
   "metadata": {},
   "outputs": [
    {
     "data": {
      "text/plain": [
       "8"
      ]
     },
     "execution_count": 8,
     "metadata": {},
     "output_type": "execute_result"
    }
   ],
   "source": [
    "len(eval_splits)"
   ]
  },
  {
   "cell_type": "code",
   "execution_count": 9,
   "id": "a6465c5e",
   "metadata": {},
   "outputs": [],
   "source": [
    "\n",
    "\n",
    "mt_quantiles_list = []\n",
    "ind_quantiles_list = []\n",
    "for i in range(len(eval_splits)):\n",
    "    \n",
    "    torch.cuda.empty_cache()\n",
    "    \n",
    "    train_start = train_splits[i]\n",
    "    train_end = train_splits[i+1]\n",
    "    test_end = eval_splits[i]\n",
    "    test_y = full_data[:, train_end:test_end]\n",
    "    test_y = test_y[:, times].unsqueeze(-2).cpu()\n",
    "    \n",
    "    ind_quantiles_list.append((ind_x_list[i][..., times] > test_y).sum(1))\n",
    "    mt_quantiles_list.append((mt_x_list[i][..., times] > test_y).sum(1))"
   ]
  },
  {
   "cell_type": "code",
   "execution_count": 10,
   "id": "6555f54e",
   "metadata": {},
   "outputs": [],
   "source": [
    "ind_quantiles = torch.stack(ind_quantiles_list) / 100\n",
    "mt_quantiles = torch.stack(mt_quantiles_list) / 100"
   ]
  },
  {
   "cell_type": "code",
   "execution_count": 11,
   "id": "3a90fb3e",
   "metadata": {},
   "outputs": [],
   "source": [
    "ind_quantiles = ind_quantiles.reshape(-1, 7)\n",
    "mt_quantiles = mt_quantiles.reshape(-1, 7)"
   ]
  },
  {
   "cell_type": "code",
   "execution_count": 12,
   "id": "03761ff9",
   "metadata": {},
   "outputs": [
    {
     "data": {
      "text/plain": [
       "array([  1,  21,  41,  61,  81, 101, 119])"
      ]
     },
     "execution_count": 12,
     "metadata": {},
     "output_type": "execute_result"
    }
   ],
   "source": [
    "times+1"
   ]
  },
  {
   "cell_type": "code",
   "execution_count": 14,
   "id": "be5f3902",
   "metadata": {},
   "outputs": [
    {
     "name": "stderr",
     "output_type": "stream",
     "text": [
      "/Users/wesleymaddox/anaconda3/lib/python3.7/site-packages/ipykernel_launcher.py:14: UserWarning: Tight layout not applied. tight_layout cannot make axes height small enough to accommodate all axes decorations\n",
      "  \n"
     ]
    },
    {
     "data": {
      "image/png": "[encoded data removed]",
      "text/plain": [
       "<Figure size 720x720 with 7 Axes>"
      ]
     },
     "metadata": {},
     "output_type": "display_data"
    }
   ],
   "source": [
    "fig, ax = plt.subplots(7, 1, figsize = (10, 10), sharex=True, sharey=True)\n",
    "\n",
    "for i in range(7):\n",
    "    ax[i].hist(ind_quantiles[:, i].numpy(), alpha = 0.5, bins = np.arange(0, 1, 0.05), label=\"Volt\")\n",
    "    ax[i].hist(mt_quantiles[:, i].numpy(), color = palette[-2], bins = np.arange(0, 1, 0.05), \n",
    "               alpha = 0.5, label=\"MT-Volt\")\n",
    "    ax[i].set_ylim((0, 30))\n",
    "    ax[i].set_yticks(ticks=[])\n",
    "    ax[i].set_ylabel(str(times[i]+1))\n",
    "ax[-1].legend(loc=\"lower center\", bbox_to_anchor=(0.55, -1.6), ncol = 2)\n",
    "plt.text(0.45, 0.05, \"Quantile\", fontsize=25, transform=plt.gcf().transFigure)\n",
    "plt.text(0.04, 0.45, \"Time\", fontsize=25, transform=plt.gcf().transFigure, rotation=90)\n",
    "sns.despine()\n",
    "plt.tight_layout()\n",
    "plt.savefig(\"lookahead_predictions_mt.pdf\", bbox_inches = \"tight\")"
   ]
  },
  {
   "cell_type": "code",
   "execution_count": null,
   "id": "69a5c15e",
   "metadata": {},
   "outputs": [],
   "source": []
  }
 ],
 "metadata": {
  "kernelspec": {
   "display_name": "Python 3 (ipykernel)",
   "language": "python",
   "name": "python3"
  },
  "language_info": {
   "codemirror_mode": {
    "name": "ipython",
    "version": 3
   },
   "file_extension": ".py",
   "mimetype": "text/x-python",
   "name": "python",
   "nbconvert_exporter": "python",
   "pygments_lexer": "ipython3",
   "version": "3.7.7"
  }
 },
 "nbformat": 4,
 "nbformat_minor": 5
}
