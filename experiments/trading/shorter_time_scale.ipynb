{
 "cells": [
  {
   "cell_type": "code",
   "execution_count": 1,
   "id": "be6383aa",
   "metadata": {},
   "outputs": [
    {
     "name": "stdout",
     "output_type": "stream",
     "text": [
      "Warning no robinhood utils.\n"
     ]
    }
   ],
   "source": [
    "import torch\n",
    "import yfinance as yf\n",
    "import matplotlib.pyplot as plt\n",
    "\n",
    "import matplotlib.pyplot as plt\n",
    "import seaborn as sns\n",
    "import numpy as np\n",
    "import torch\n",
    "import pandas as pd\n",
    "import os\n",
    "import gpytorch\n",
    "import argparse\n",
    "import datetime\n",
    "\n",
    "from botorch.models import SingleTaskGP\n",
    "from botorch.optim.fit import fit_gpytorch_torch\n",
    "from gpytorch.likelihoods import GaussianLikelihood\n",
    "from gpytorch.mlls import ExactMarginalLogLikelihood\n",
    "from gpytorch.means import ConstantMean, LinearMean\n",
    "from gpytorch.kernels import SpectralMixtureKernel, MaternKernel, RBFKernel, ScaleKernel\n",
    "from voltron.means import EWMAMean, DEWMAMean, TEWMAMean\n",
    "from voltron.train_utils import LearnGPCV, TrainVolModel, TrainVoltMagpieModel, TrainBasicModel\n",
    "from voltron.models import VoltMagpie\n",
    "from voltron.means import LogLinearMean\n",
    "\n",
    "from voltron.rollout_utils import GeneratePrediction, Rollouts\n",
    "from voltron.data import make_ticker_list, DataGetter, GetStockHistory"
   ]
  },
  {
   "cell_type": "code",
   "execution_count": 2,
   "id": "8cce2850",
   "metadata": {},
   "outputs": [
    {
     "name": "stdout",
     "output_type": "stream",
     "text": [
      "Mon Dec 20 07:56:41 2021       \n",
      "+-----------------------------------------------------------------------------+\n",
      "| NVIDIA-SMI 465.19.01    Driver Version: 465.19.01    CUDA Version: 11.3     |\n",
      "|-------------------------------+----------------------+----------------------+\n",
      "| GPU  Name        Persistence-M| Bus-Id        Disp.A | Volatile Uncorr. ECC |\n",
      "| Fan  Temp  Perf  Pwr:Usage/Cap|         Memory-Usage | GPU-Util  Compute M. |\n",
      "|                               |                      |               MIG M. |\n",
      "|===============================+======================+======================|\n",
      "|   0  NVIDIA TITAN RTX    On   | 00000000:1A:00.0 Off |                  N/A |\n",
      "| 41%   33C    P5    53W / 280W |      3MiB / 24220MiB |      0%      Default |\n",
      "|                               |                      |                  N/A |\n",
      "+-------------------------------+----------------------+----------------------+\n",
      "|   1  NVIDIA TITAN RTX    On   | 00000000:1B:00.0 Off |                  N/A |\n",
      "| 41%   24C    P8    10W / 280W |      3MiB / 24220MiB |      0%      Default |\n",
      "|                               |                      |                  N/A |\n",
      "+-------------------------------+----------------------+----------------------+\n",
      "|   2  NVIDIA TITAN RTX    On   | 00000000:3D:00.0 Off |                  N/A |\n",
      "| 41%   29C    P2    58W / 280W |   1402MiB / 24220MiB |     11%      Default |\n",
      "|                               |                      |                  N/A |\n",
      "+-------------------------------+----------------------+----------------------+\n",
      "|   3  NVIDIA TITAN RTX    On   | 00000000:3E:00.0 Off |                  N/A |\n",
      "| 41%   25C    P8    16W / 280W |      3MiB / 24220MiB |      0%      Default |\n",
      "|                               |                      |                  N/A |\n",
      "+-------------------------------+----------------------+----------------------+\n",
      "|   4  NVIDIA TITAN RTX    On   | 00000000:88:00.0 Off |                  N/A |\n",
      "| 41%   24C    P8    13W / 280W |      3MiB / 24220MiB |      0%      Default |\n",
      "|                               |                      |                  N/A |\n",
      "+-------------------------------+----------------------+----------------------+\n",
      "|   5  NVIDIA TITAN RTX    On   | 00000000:89:00.0 Off |                  N/A |\n",
      "| 41%   24C    P8    18W / 280W |      3MiB / 24220MiB |      0%      Default |\n",
      "|                               |                      |                  N/A |\n",
      "+-------------------------------+----------------------+----------------------+\n",
      "|   6  NVIDIA TITAN RTX    On   | 00000000:B1:00.0 Off |                  N/A |\n",
      "| 41%   25C    P8     4W / 280W |      3MiB / 24220MiB |      0%      Default |\n",
      "|                               |                      |                  N/A |\n",
      "+-------------------------------+----------------------+----------------------+\n",
      "|   7  NVIDIA TITAN RTX    On   | 00000000:B2:00.0 Off |                  N/A |\n",
      "| 41%   25C    P8    15W / 280W |      3MiB / 24220MiB |      0%      Default |\n",
      "|                               |                      |                  N/A |\n",
      "+-------------------------------+----------------------+----------------------+\n",
      "                                                                               \n",
      "+-----------------------------------------------------------------------------+\n",
      "| Processes:                                                                  |\n",
      "|  GPU   GI   CI        PID   Type   Process name                  GPU Memory |\n",
      "|        ID   ID                                                   Usage      |\n",
      "|=============================================================================|\n",
      "|    2   N/A  N/A     61460      C   ...y_m/miniconda3/bin/python     1399MiB |\n",
      "+-----------------------------------------------------------------------------+\n"
     ]
    }
   ],
   "source": [
    "!nvidia-smi"
   ]
  },
  {
   "cell_type": "code",
   "execution_count": 3,
   "id": "bb53d987",
   "metadata": {},
   "outputs": [
    {
     "name": "stdout",
     "output_type": "stream",
     "text": [
      "[*********************100%***********************]  1 of 1 completed\n"
     ]
    }
   ],
   "source": [
    "all_y = yf.download(\"XOM\", start = \"2020-06-01\", end=\"2020-11-01\", interval=\"1h\").Close.values"
   ]
  },
  {
   "cell_type": "code",
   "execution_count": 4,
   "id": "5a9b0817",
   "metadata": {},
   "outputs": [
    {
     "data": {
      "text/plain": [
       "[<matplotlib.lines.Line2D at 0x7fd1240f3fd0>]"
      ]
     },
     "execution_count": 4,
     "metadata": {},
     "output_type": "execute_result"
    },
    {
     "data": {
      "image/png": "[encoded data removed]",
      "text/plain": [
       "<Figure size 432x288 with 1 Axes>"
      ]
     },
     "metadata": {
      "needs_background": "light"
     },
     "output_type": "display_data"
    }
   ],
   "source": [
    "plt.plot(all_y)"
   ]
  },
  {
   "cell_type": "code",
   "execution_count": 5,
   "id": "0eec83e4",
   "metadata": {},
   "outputs": [],
   "source": [
    "dt = 1 / 252 / 8"
   ]
  },
  {
   "cell_type": "code",
   "execution_count": 6,
   "id": "c43156f5",
   "metadata": {},
   "outputs": [],
   "source": [
    "ntrain = 400"
   ]
  },
  {
   "cell_type": "code",
   "execution_count": 7,
   "id": "1325c8ba",
   "metadata": {},
   "outputs": [],
   "source": [
    "train_y = torch.tensor(all_y[:ntrain]).view(-1).float().cuda()\n",
    "train_x = torch.linspace(0, ntrain-1, ntrain-1).view(-1).cuda() * dt\n",
    "\n",
    "test_y = torch.tensor(all_y[ntrain:]).view(-1).float().cuda()\n",
    "test_x = torch.linspace(0, test_y.shape[0], test_y.shape[0]).view(-1).cuda() * dt + train_x[-1] + dt"
   ]
  },
  {
   "cell_type": "code",
   "execution_count": 8,
   "id": "fe0b310c",
   "metadata": {},
   "outputs": [
    {
     "data": {
      "text/plain": [
       "tensor([0.1934, 0.1939, 0.1944, 0.1949, 0.1954, 0.1959, 0.1964, 0.1969, 0.1974,\n",
       "        0.1979], device='cuda:0')"
      ]
     },
     "execution_count": 8,
     "metadata": {},
     "output_type": "execute_result"
    }
   ],
   "source": [
    "train_x[-10:]"
   ]
  },
  {
   "cell_type": "code",
   "execution_count": 9,
   "id": "414c1737",
   "metadata": {},
   "outputs": [
    {
     "data": {
      "text/plain": [
       "tensor([0.1984, 0.1989, 0.1994, 0.1999, 0.2004, 0.2009, 0.2014, 0.2019, 0.2024,\n",
       "        0.2029], device='cuda:0')"
      ]
     },
     "execution_count": 9,
     "metadata": {},
     "output_type": "execute_result"
    }
   ],
   "source": [
    "test_x[:10]"
   ]
  },
  {
   "cell_type": "code",
   "execution_count": 10,
   "id": "a0812e5b",
   "metadata": {},
   "outputs": [
    {
     "data": {
      "text/plain": [
       "torch.Size([399])"
      ]
     },
     "execution_count": 10,
     "metadata": {},
     "output_type": "execute_result"
    }
   ],
   "source": [
    "train_x.shape"
   ]
  },
  {
   "cell_type": "code",
   "execution_count": 11,
   "id": "3682fa8e",
   "metadata": {},
   "outputs": [
    {
     "data": {
      "text/plain": [
       "torch.Size([356])"
      ]
     },
     "execution_count": 11,
     "metadata": {},
     "output_type": "execute_result"
    }
   ],
   "source": [
    "test_x.shape"
   ]
  },
  {
   "cell_type": "code",
   "execution_count": 12,
   "id": "6ae36f5d",
   "metadata": {},
   "outputs": [
    {
     "name": "stderr",
     "output_type": "stream",
     "text": [
      "/home/wesley_m/miniconda3/lib/python3.9/site-packages/torch/functional.py:445: UserWarning: torch.meshgrid: in an upcoming release, it will be required to pass the indexing argument. (Triggered internally at  /opt/conda/conda-bld/pytorch_1634272204863/work/aten/src/ATen/native/TensorShape.cpp:2157.)\n",
      "  return _VF.meshgrid(tensors, **kwargs)  # type: ignore[attr-defined]\n",
      "/home/wesley_m/gpytorch/gpytorch/utils/cholesky.py:38: NumericalWarning: A not p.d., added jitter of 1.0e-06 to the diagonal\n",
      "  warnings.warn(\n"
     ]
    },
    {
     "name": "stdout",
     "output_type": "stream",
     "text": [
      "Iter 1/500 - Loss: 6.738\n",
      "Iter 51/500 - Loss: 0.607\n",
      "Iter 101/500 - Loss: 0.541\n",
      "Iter 151/500 - Loss: 0.525\n",
      "Iter 201/500 - Loss: 0.522\n",
      "Iter 251/500 - Loss: 0.520\n",
      "Iter 301/500 - Loss: 0.519\n",
      "Iter 351/500 - Loss: 0.518\n",
      "Iter 401/500 - Loss: 0.517\n",
      "Iter 451/500 - Loss: 0.516\n",
      "Iter 1/200 - Loss: 1.960\n",
      "Iter 51/200 - Loss: 1.389\n",
      "Iter 101/200 - Loss: 0.889\n",
      "Iter 151/200 - Loss: 0.395\n",
      "Iter 1/100 - Loss: 0.738\n",
      "Iter 51/100 - Loss: -1.494\n"
     ]
    }
   ],
   "source": [
    "with gpytorch.settings.max_cholesky_size(2000):\n",
    "    vol = LearnGPCV(train_x, train_y, train_iters=500,\n",
    "                        printing=True)\n",
    "    vmod, vlh = TrainVolModel(train_x, vol / 8, \n",
    "                              train_iters=200, printing=True)\n",
    "    voltron, lh = TrainVoltMagpieModel(train_x, train_y[1:], \n",
    "                                       vmod, vlh, vol / 8,\n",
    "                                       printing=True, \n",
    "                                       train_iters=100,\n",
    "                                       k=200, mean_func=\"ewma\")"
   ]
  },
  {
   "cell_type": "code",
   "execution_count": 13,
   "id": "118e2772",
   "metadata": {},
   "outputs": [],
   "source": [
    "vmod.eval();"
   ]
  },
  {
   "cell_type": "code",
   "execution_count": 14,
   "id": "d2c48885",
   "metadata": {},
   "outputs": [],
   "source": [
    "nsample = 1000"
   ]
  },
  {
   "cell_type": "code",
   "execution_count": 15,
   "id": "e91eaf5f",
   "metadata": {},
   "outputs": [
    {
     "name": "stderr",
     "output_type": "stream",
     "text": [
      "/home/wesley_m/gpytorch/gpytorch/utils/cholesky.py:38: NumericalWarning: A not p.d., added jitter of 1.0e-04 to the diagonal\n",
      "  warnings.warn(\n"
     ]
    }
   ],
   "source": [
    "save_samples = Rollouts(train_x, train_y, test_x, voltron, \n",
    "                        nsample=1000)\n",
    "# voltron.vol_model.eval()\n",
    "# predvol = voltron.vol_model(test_x).sample(torch.Size((nsample, ))).exp()\n",
    "# save_samples = GeneratePrediction(train_x, train_y, test_x, \n",
    "#                              predvol, voltron).detach()"
   ]
  },
  {
   "cell_type": "code",
   "execution_count": 16,
   "id": "0daccbfc",
   "metadata": {},
   "outputs": [
    {
     "data": {
      "text/plain": [
       "torch.Size([1000, 356])"
      ]
     },
     "execution_count": 16,
     "metadata": {},
     "output_type": "execute_result"
    }
   ],
   "source": [
    "save_samples.shape"
   ]
  },
  {
   "cell_type": "code",
   "execution_count": 17,
   "id": "f274335f",
   "metadata": {},
   "outputs": [],
   "source": [
    "predictions = save_samples.exp()"
   ]
  },
  {
   "cell_type": "code",
   "execution_count": 18,
   "id": "1865029c",
   "metadata": {},
   "outputs": [
    {
     "data": {
      "text/plain": [
       "<matplotlib.collections.PolyCollection at 0x7fd1182fafd0>"
      ]
     },
     "execution_count": 18,
     "metadata": {},
     "output_type": "execute_result"
    },
    {
     "data": {
      "image/png": "[encoded data removed]",
      "text/plain": [
       "<Figure size 432x288 with 1 Axes>"
      ]
     },
     "metadata": {
      "needs_background": "light"
     },
     "output_type": "display_data"
    }
   ],
   "source": [
    "plt.plot(train_x.cpu(), train_y[1:].cpu())\n",
    "plt.plot(test_x.cpu(), test_y.cpu())\n",
    "plt.plot(test_x.cpu(), predictions.mean(0).cpu())\n",
    "plt.fill_between(test_x.cpu(), predictions.mean(0).cpu() - 2 * predictions.std(0).cpu(),\n",
    "                 predictions.mean(0).cpu() + 2 * predictions.std(0).cpu(),\n",
    "                 color = \"green\", alpha = 0.2\n",
    "                )\n",
    "# plt.ylim((3, 8))"
   ]
  },
  {
   "cell_type": "code",
   "execution_count": 19,
   "id": "7913cfc3",
   "metadata": {},
   "outputs": [
    {
     "data": {
      "text/plain": [
       "[<matplotlib.lines.Line2D at 0x7fd118244850>]"
      ]
     },
     "execution_count": 19,
     "metadata": {},
     "output_type": "execute_result"
    },
    {
     "data": {
      "image/png": "[encoded data removed]",
      "text/plain": [
       "<Figure size 432x288 with 1 Axes>"
      ]
     },
     "metadata": {
      "needs_background": "light"
     },
     "output_type": "display_data"
    }
   ],
   "source": [
    "plt.plot(train_x.cpu(), vol.cpu() / 8)"
   ]
  },
  {
   "cell_type": "code",
   "execution_count": null,
   "id": "57800939",
   "metadata": {},
   "outputs": [],
   "source": []
  }
 ],
 "metadata": {
  "kernelspec": {
   "display_name": "Python 3 (ipykernel)",
   "language": "python",
   "name": "python3"
  },
  "language_info": {
   "codemirror_mode": {
    "name": "ipython",
    "version": 3
   },
   "file_extension": ".py",
   "mimetype": "text/x-python",
   "name": "python",
   "nbconvert_exporter": "python",
   "pygments_lexer": "ipython3",
   "version": "3.9.5"
  }
 },
 "nbformat": 4,
 "nbformat_minor": 5
}
