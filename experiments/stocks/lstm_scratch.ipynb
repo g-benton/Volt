{
 "cells": [
  {
   "cell_type": "code",
   "execution_count": 1,
   "id": "9754a692-edb8-41bf-8159-fd82edcb9195",
   "metadata": {},
   "outputs": [
    {
     "name": "stdout",
     "output_type": "stream",
     "text": [
      "Warning no robinhood utils.\n"
     ]
    }
   ],
   "source": [
    "import numpy as np\n",
    "import matplotlib.pyplot as plt\n",
    "import pandas as pd\n",
    "import torch\n",
    "from torch import nn\n",
    "import seaborn as sns\n",
    "import time\n",
    "import copy\n",
    "import sys\n",
    "from torch.utils.data import DataLoader\n",
    "from voltron.data import make_ticker_list, GetStockHistory\n",
    "sns.set_style('white')\n",
    "# style.use('whitegrid')\n",
    "palette = [\"#1b4079\", \"#C6DDF0\", \"#048A81\", \"#B9E28C\", \"#8C2155\", \"#AF7595\", \"#E6480F\", \"#FA9500\"]\n",
    "sns.set(palette = palette, font_scale=2.0, style=\"white\", rc={\"lines.linewidth\": 2.0})"
   ]
  },
  {
   "cell_type": "markdown",
   "id": "dbc24c1a-f499-4b8f-8544-6d4a66f48488",
   "metadata": {},
   "source": [
    "## Dataset Setup"
   ]
  },
  {
   "cell_type": "code",
   "execution_count": 2,
   "id": "62f91be1-38aa-4781-8b65-c5caf9752045",
   "metadata": {},
   "outputs": [],
   "source": [
    "from torch.utils.data import Dataset\n",
    "\n",
    "class SequenceDataset(Dataset):\n",
    "    def __init__(self, data, sequence_length=5):\n",
    "        self.sequence_length = sequence_length\n",
    "        self.X = data.float()\n",
    "\n",
    "    def __len__(self):\n",
    "        return self.X.shape[0]-1\n",
    "\n",
    "    def __getitem__(self, i): \n",
    "        if i >= self.sequence_length - 1:\n",
    "            i_start = i - self.sequence_length + 1\n",
    "            x = self.X[i_start:(i + 1)]\n",
    "        else:\n",
    "            padding = self.X[0].repeat(self.sequence_length - i - 1, 1).squeeze(-1)\n",
    "            x = self.X[0:(i + 1)]\n",
    "            x = torch.cat((padding, x), 0)\n",
    "            \n",
    "        return x.unsqueeze(0), self.X[i+1]"
   ]
  },
  {
   "cell_type": "code",
   "execution_count": 239,
   "id": "566c9386-c297-430f-b4ef-a0f3ba7aec37",
   "metadata": {},
   "outputs": [],
   "source": [
    "tckr = \"JPM\"\n",
    "ntrain = 400\n",
    "lookback = 1\n",
    "data = GetStockHistory(tckr, end_date=\"2021-12-07\", history=ntrain + lookback).Close.to_numpy()\n",
    "data = torch.FloatTensor(data).log()\n",
    "\n",
    "data = (data - data.mean())/data.std()\n",
    "\n",
    "\n",
    "# xin = torch.linspace(0, 5*np.pi, 250)\n",
    "# data = torch.sin(xin) + 0.2 * torch.randn(xin.shape)\n",
    "\n"
   ]
  },
  {
   "cell_type": "code",
   "execution_count": 269,
   "id": "5dece53d-785f-4ca9-9cbf-03e16de71e9b",
   "metadata": {},
   "outputs": [],
   "source": [
    "seq_len = 25\n",
    "dset = SequenceDataset(data, seq_len)\n",
    "\n",
    "trgts = []\n",
    "for i in range(len(dset)):\n",
    "    trgts.append(dset[i][1].item())"
   ]
  },
  {
   "cell_type": "code",
   "execution_count": 270,
   "id": "2317ba11-4f62-443f-9ad8-63f9a0996ee9",
   "metadata": {},
   "outputs": [],
   "source": [
    "train_loader = DataLoader(dset, batch_size=20, shuffle=True)\n",
    "X, y = next(iter(train_loader))"
   ]
  },
  {
   "cell_type": "code",
   "execution_count": 271,
   "id": "ffecfde0-6938-4dee-b1b0-6627012e3329",
   "metadata": {},
   "outputs": [],
   "source": [
    "class ShallowRegressionLSTM(nn.Module):\n",
    "    def __init__(self, input_size, hidden_units=128):\n",
    "        super().__init__()\n",
    "        self.input_size = input_size # this is the number of features\n",
    "        self.hidden_units = hidden_units\n",
    "        self.num_layers = 5\n",
    "\n",
    "        self.lstm = nn.LSTM(\n",
    "            input_size=input_size,\n",
    "            hidden_size=hidden_units,\n",
    "            batch_first=True,\n",
    "            num_layers=self.num_layers\n",
    "        )\n",
    "\n",
    "        self.linear = nn.Linear(in_features=self.hidden_units, out_features=2)\n",
    "        \n",
    "\n",
    "    def forward(self, x):\n",
    "        batch_size = x.shape[0]\n",
    "        h0 = torch.zeros(self.num_layers, batch_size, self.hidden_units).requires_grad_()\n",
    "        c0 = torch.zeros(self.num_layers, batch_size, self.hidden_units).requires_grad_()\n",
    "\n",
    "        _, (hn, _) = self.lstm(x, (h0, c0))\n",
    "        out = self.linear(hn[0])  # First dim of Hn is num_layers, which is set to 1 above.\n",
    "        output = torch.zeros_like(out)\n",
    "        output[:, 0] = out[:, 0]\n",
    "        output[:, 1] = torch.exp(out[:, 1])\n",
    "        return output\n",
    "    \n",
    "from torch.autograd import Variable  \n",
    "class LSTM1(nn.Module):\n",
    "    def __init__(self, num_classes, seq_len, hidden_size, num_layers):\n",
    "        super(LSTM1, self).__init__()\n",
    "        self.num_classes = num_classes #number of classes\n",
    "        self.num_layers = num_layers #number of layers\n",
    "        self.input_size = seq_len #input size\n",
    "        self.hidden_size = hidden_size #hidden state\n",
    "\n",
    "        self.lstm = nn.LSTM(input_size=seq_len, hidden_size=hidden_size,\n",
    "                          num_layers=num_layers, batch_first=True) #lstm\n",
    "        self.fc_1 =  nn.Linear(hidden_size, 128) #fully connected 1\n",
    "        self.fc = nn.Linear(128, num_classes) #fully connected last layer\n",
    "\n",
    "        self.relu = nn.ReLU()\n",
    "        self.softplus = nn.Softplus()\n",
    "    \n",
    "    def forward(self,x):\n",
    "        h_0 = Variable(torch.zeros(self.num_layers, x.size(0), self.hidden_size)) #hidden state\n",
    "        c_0 = Variable(torch.zeros(self.num_layers, x.size(0), self.hidden_size)) #internal state\n",
    "        # Propagate input through LSTM\n",
    "        output, (hn, cn) = self.lstm(x, (h_0, c_0)) #lstm with input, hidden, and internal state\n",
    "\n",
    "        hn = hn[self.num_layers-1]\n",
    "        hn = hn.view(-1, self.hidden_size) #reshaping the data for Dense layer next\n",
    "        out = self.relu(hn)\n",
    "        out = self.fc_1(out) #first Dense\n",
    "        out = self.relu(out) #relu\n",
    "        out = self.fc(out) #Final Output\n",
    "        \n",
    "        output = torch.zeros_like(out)\n",
    "        output[:, 0] = out[:, 0]\n",
    "        output[:, 1] = self.softplus(out[:, 1])\n",
    "        return output"
   ]
  },
  {
   "cell_type": "code",
   "execution_count": 272,
   "id": "3bc83b15-3b0f-4f21-803b-29e354cb558f",
   "metadata": {},
   "outputs": [],
   "source": [
    "# model = ShallowRegressionLSTM(seq_len)\n",
    "model = LSTM1(2, seq_len, 128, 1)"
   ]
  },
  {
   "cell_type": "code",
   "execution_count": 273,
   "id": "41547213-7851-4ad1-ac04-03cab5e0a91c",
   "metadata": {},
   "outputs": [],
   "source": [
    "def NLL(targets, outputs):\n",
    "    dist = torch.distributions.Normal(outputs[:, 0], outputs[:, 1])\n",
    "    return -dist.log_prob(targets).sum()"
   ]
  },
  {
   "cell_type": "code",
   "execution_count": 274,
   "id": "e6958f51-5cd0-414a-b419-3ce55f12b486",
   "metadata": {},
   "outputs": [],
   "source": [
    "def train_model(data_loader, model, loss_function, optimizer, epochs=200):\n",
    "    num_batches = len(data_loader)\n",
    "    total_loss = 0\n",
    "    model.train()\n",
    "    for epoch in range(epochs):\n",
    "        for X, y in data_loader:\n",
    "            output = model(X)\n",
    "            loss = loss_function(y, output)\n",
    "\n",
    "            optimizer.zero_grad()\n",
    "            loss.backward()\n",
    "            optimizer.step()\n",
    "\n",
    "            total_loss += loss.item()\n",
    "\n",
    "        if epoch%10 == 0:\n",
    "            avg_loss = total_loss / num_batches\n",
    "            print(f\"Train loss: {avg_loss}, Epoch: {epoch}\")"
   ]
  },
  {
   "cell_type": "code",
   "execution_count": 275,
   "id": "92484e45-11c9-4fe1-bc5b-87b0f27d5a2c",
   "metadata": {
    "tags": []
   },
   "outputs": [
    {
     "name": "stdout",
     "output_type": "stream",
     "text": [
      "Train loss: 14.94985544681549, Epoch: 0\n",
      "Train loss: 2.123787060379982, Epoch: 10\n",
      "Train loss: -118.20948788821697, Epoch: 20\n",
      "Train loss: -225.282495072484, Epoch: 30\n",
      "Train loss: -393.8007117182016, Epoch: 40\n",
      "Train loss: -546.9331771463155, Epoch: 50\n",
      "Train loss: -724.232698109746, Epoch: 60\n",
      "Train loss: -916.3166337996721, Epoch: 70\n",
      "Train loss: -1073.7028237611055, Epoch: 80\n",
      "Train loss: -1267.8471668988466, Epoch: 90\n",
      "Train loss: -1434.5194520920516, Epoch: 100\n",
      "Train loss: -1630.7973297566175, Epoch: 110\n",
      "Train loss: -1831.4267205685378, Epoch: 120\n",
      "Train loss: -2038.7122355431318, Epoch: 130\n",
      "Train loss: -2246.2204612165688, Epoch: 140\n",
      "Train loss: -2457.420981016755, Epoch: 150\n",
      "Train loss: -2669.7478996187447, Epoch: 160\n",
      "Train loss: -2884.8198515325785, Epoch: 170\n",
      "Train loss: -3108.3130769401787, Epoch: 180\n",
      "Train loss: -3337.9945754677055, Epoch: 190\n"
     ]
    }
   ],
   "source": [
    "optimizer = torch.optim.Adam(model.parameters(), lr=0.01)\n",
    "train_model(train_loader, model, NLL, optimizer)"
   ]
  },
  {
   "cell_type": "code",
   "execution_count": 276,
   "id": "07eab392-37e2-4dae-bfa4-dd177e3d552f",
   "metadata": {},
   "outputs": [],
   "source": [
    "means = []\n",
    "vrs = []\n",
    "for X, y in dset:\n",
    "    output = model(X.unsqueeze(0))\n",
    "    means = means + list(output[:, 0].detach().numpy())\n",
    "    vrs = vrs + list(output[:, 1].detach().numpy())"
   ]
  },
  {
   "cell_type": "code",
   "execution_count": 277,
   "id": "b10866df-b554-44a6-bf73-b98abb2e6400",
   "metadata": {},
   "outputs": [
    {
     "data": {
      "text/plain": [
       "<matplotlib.collections.PathCollection at 0x7fa59d357370>"
      ]
     },
     "execution_count": 277,
     "metadata": {},
     "output_type": "execute_result"
    },
    {
     "data": {
      "image/png": "[encoded data removed]",
      "text/plain": [
       "<Figure size 432x288 with 1 Axes>"
      ]
     },
     "metadata": {},
     "output_type": "display_data"
    }
   ],
   "source": [
    "xx = torch.arange(data.shape[0])\n",
    "\n",
    "plt.plot(xx[1:], means)\n",
    "plt.fill_between(xx[1:], means - 2*np.sqrt(vrs), means + 2*np.sqrt(vrs), color=palette[1], alpha=0.5)\n",
    "plt.scatter(xx, data, color=palette[5])"
   ]
  },
  {
   "cell_type": "markdown",
   "id": "6be11181-0698-429c-9dc7-a0f4b6c99584",
   "metadata": {},
   "source": [
    "## Rollouts"
   ]
  },
  {
   "cell_type": "code",
   "execution_count": 267,
   "id": "81bb90d7-e790-4e31-ba87-fe61449eb9ce",
   "metadata": {},
   "outputs": [],
   "source": [
    "nroll = 50\n",
    "roll_len = 100\n",
    "xin, xout = dset[len(dset)-1]\n",
    "xx = torch.cat((xin[0, 1:], xout.unsqueeze(0)))\n",
    "xx = xx.repeat(nroll, 1).unsqueeze(1)\n",
    "roll_pxs = torch.zeros(nroll, roll_len)\n",
    "with torch.no_grad():\n",
    "    for idx in range(roll_len):\n",
    "        out = model(xx)\n",
    "        smpl = torch.normal(out[:, 0], out[:, 1])\n",
    "        roll_pxs[:, idx] = smpl\n",
    "        xx = torch.cat((xx[..., 1:], smpl.unsqueeze(-1).unsqueeze(-1)), -1)"
   ]
  },
  {
   "cell_type": "code",
   "execution_count": 268,
   "id": "1aec9c78-083b-4161-af02-4ef9e6590858",
   "metadata": {},
   "outputs": [
    {
     "data": {
      "image/png": "[encoded data removed]",
      "text/plain": [
       "<Figure size 432x288 with 1 Axes>"
      ]
     },
     "metadata": {},
     "output_type": "display_data"
    }
   ],
   "source": [
    "full_x = torch.arange(data.shape[0])\n",
    "test_x = torch.arange(data.shape[0], data.shape[0] + roll_len)\n",
    "plt.plot(full_x[1:], means)\n",
    "plt.scatter(full_x, data, color=palette[5])\n",
    "plt.plot(test_x, roll_pxs[:20, :].T.detach(), color='gray', alpha=1., lw=0.5)\n",
    "plt.show()"
   ]
  }
 ],
 "metadata": {
  "kernelspec": {
   "display_name": "Python 3 (ipykernel)",
   "language": "python",
   "name": "python3"
  },
  "language_info": {
   "codemirror_mode": {
    "name": "ipython",
    "version": 3
   },
   "file_extension": ".py",
   "mimetype": "text/x-python",
   "name": "python",
   "nbconvert_exporter": "python",
   "pygments_lexer": "ipython3",
   "version": "3.8.12"
  }
 },
 "nbformat": 4,
 "nbformat_minor": 5
}
