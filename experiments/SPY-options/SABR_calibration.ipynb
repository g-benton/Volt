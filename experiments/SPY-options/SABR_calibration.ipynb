{
 "cells": [
  {
   "cell_type": "code",
   "execution_count": 1,
   "id": "0d67e226",
   "metadata": {},
   "outputs": [],
   "source": [
    "import numpy as np\n",
    "import seaborn as sns\n",
    "import matplotlib.pyplot as plt\n",
    "from matplotlib.lines import Line2D\n",
    "from matplotlib.patches import Patch\n",
    "import torch\n",
    "import pandas as pd\n",
    "import copy\n",
    "from voltron.option_utils import GetTradingDays, GetTrainingData, Pricer, FindLastTradingDays\n",
    "from scipy.optimize import minimize"
   ]
  },
  {
   "cell_type": "code",
   "execution_count": 2,
   "id": "8ad5b4c2",
   "metadata": {},
   "outputs": [
    {
     "name": "stderr",
     "output_type": "stream",
     "text": [
      "/Users/gregorybenton/miniconda3/lib/python3.8/site-packages/IPython/core/interactiveshell.py:3169: DtypeWarning: Columns (19) have mixed types.Specify dtype option on import or set low_memory=False.\n",
      "  has_raised = await self.run_ast_nodes(code_ast.body, cell_name,\n"
     ]
    }
   ],
   "source": [
    "SPY = pd.read_csv(\"./data/SPY_prices.csv\")\n",
    "SPY['Date'] = pd.to_datetime(SPY['Date'])\n",
    "\n",
    "years = np.arange(2009, 2018)\n",
    "opts = pd.DataFrame()\n",
    "for year in years:\n",
    "    dat = pd.read_csv(\"./data/SPY_\" + str(year) + \".csv\")\n",
    "    dat = dat[dat.type == \"call\"]\n",
    "    quotedate = dat.quotedate.unique()[0]\n",
    "    dat = dat[dat.quotedate == quotedate]    \n",
    "    opts = pd.concat((opts, dat), ignore_index=True)\n",
    "\n",
    "# exps = [] \n",
    "# for idx, row in opts.iterrows():\n",
    "#     eday = row.expiration\n",
    "#     exps.append(SPY[SPY.Date == FindLastTradingDays(SPY, [pd.Timestamp(eday)])[0]].Close.item())\n",
    "# opts['exp_price'] = exps"
   ]
  },
  {
   "cell_type": "markdown",
   "id": "f361417a",
   "metadata": {},
   "source": [
    "## Torch Attempt"
   ]
  },
  {
   "cell_type": "code",
   "execution_count": 3,
   "id": "06969ba7",
   "metadata": {},
   "outputs": [],
   "source": [
    "ivol = torch.tensor(opts.impliedvol.to_numpy())\n",
    "Fs = torch.tensor(opts.underlying_last.to_numpy())\n",
    "Ks = torch.tensor(opts.strike.to_numpy())\n",
    "qdays = pd.to_datetime(opts.quotedate).dt.date.to_numpy()\n",
    "edays = pd.to_datetime(opts.expiration).dt.date.to_numpy()\n",
    "Ts = torch.tensor(([np.busday_count(qd, ed)/252. for qd, ed in zip(qdays, edays)]))"
   ]
  },
  {
   "cell_type": "code",
   "execution_count": 4,
   "id": "465286fb",
   "metadata": {},
   "outputs": [],
   "source": [
    "def BlackVol(pars, K, f, T):\n",
    "    alpha = torch.exp(pars[0][0])\n",
    "    rho = 2 * torch.sigmoid(pars[0][1]) - 1.\n",
    "    v = torch.exp(pars[0][2])\n",
    "    beta = 1.\n",
    "    num = 1 + (alpha**2 * (1-beta)**2/(24 * (f*K)**(1-beta)) + 0.25 * rho*beta*v*alpha/((f*K)**(0.5*(1-beta))) + v**2*(2-3*rho**2)/24)*T\n",
    "    num*= alpha\n",
    "    \n",
    "    denom = (f*K)**(0.5*(1-beta)) * (1 + (1-beta)**2/24 * torch.log(f/K)**2 + (1-beta)**4/1920 * torch.log(f/K)**4)\n",
    "    \n",
    "    z = v/alpha * (f*K)**(0.5*(1-beta)) * np.log(f/K)\n",
    "    xi_z = torch.log((torch.sqrt(1 - 2 * rho * z + z**2) + z - rho)/(1-rho))\n",
    "    \n",
    "    return num/denom * z/xi_z"
   ]
  },
  {
   "cell_type": "code",
   "execution_count": 5,
   "id": "1ebbc187",
   "metadata": {},
   "outputs": [],
   "source": [
    "def MinVol(pars):\n",
    "    return torch.mean((ivol - BlackVol(pars, Ks, Fs, Ts)).pow(2))"
   ]
  },
  {
   "cell_type": "code",
   "execution_count": 6,
   "id": "57bc7a65",
   "metadata": {},
   "outputs": [],
   "source": [
    "pars = [torch.tensor([-1., -5., -3.], requires_grad=True)]\n",
    "opt = torch.optim.SGD(pars, lr=0.1)"
   ]
  },
  {
   "cell_type": "code",
   "execution_count": 7,
   "id": "ab9c2a60",
   "metadata": {},
   "outputs": [],
   "source": [
    "iters = 1000\n",
    "stored_pars = torch.zeros(iters, 3)\n",
    "losses = []\n",
    "for e in range(iters):\n",
    "    stored_pars[e, :] = pars[0]\n",
    "    loss = MinVol(pars)\n",
    "    opt.zero_grad()\n",
    "    loss.backward()\n",
    "    losses.append(loss.item())\n",
    "    opt.step() "
   ]
  },
  {
   "cell_type": "code",
   "execution_count": 8,
   "id": "6f6aeab5",
   "metadata": {},
   "outputs": [
    {
     "data": {
      "text/plain": [
       "[<matplotlib.lines.Line2D at 0x7fc4a7df89d0>,\n",
       " <matplotlib.lines.Line2D at 0x7fc4a7df8a00>,\n",
       " <matplotlib.lines.Line2D at 0x7fc4a7df8b80>]"
      ]
     },
     "execution_count": 8,
     "metadata": {},
     "output_type": "execute_result"
    }
   ],
   "source": [
    "plt.plot(stored_pars.detach())"
   ]
  },
  {
   "cell_type": "code",
   "execution_count": 9,
   "id": "271add47",
   "metadata": {},
   "outputs": [
    {
     "data": {
      "text/plain": [
       "[<matplotlib.lines.Line2D at 0x7fc4a81a7700>]"
      ]
     },
     "execution_count": 9,
     "metadata": {},
     "output_type": "execute_result"
    }
   ],
   "source": [
    "plt.plot(losses)"
   ]
  },
  {
   "cell_type": "markdown",
   "id": "93a71a4d",
   "metadata": {},
   "source": [
    "# Running SABR"
   ]
  },
  {
   "cell_type": "code",
   "execution_count": 10,
   "id": "0bb6a328",
   "metadata": {},
   "outputs": [],
   "source": [
    "import numpy as np\n",
    "import torch\n",
    "import pandas as pd\n",
    "import copy\n",
    "from voltron.option_utils import GetTradingDays, GetTrainingData, Pricer, FindLastTradingDays\n",
    "from scipy.optimize import minimize\n",
    "\n",
    "def BlackVol(pars, K, f, T):\n",
    "    alpha = torch.exp(pars[0][0]) ## v0\n",
    "    rho = 2 * torch.sigmoid(pars[0][1]) - 1. ##rho\n",
    "    v = torch.exp(pars[0][2]) ## \"sigma\" \n",
    "    beta = 1.\n",
    "    num = 1 + (alpha**2 * (1-beta)**2/(24 * (f*K)**(1-beta)) +\\\n",
    "               0.25 * rho*beta*v*alpha/((f*K)**(0.5*(1-beta))) +\\\n",
    "               v**2*(2-3*rho**2)/24)*T\n",
    "    num*= alpha\n",
    "    \n",
    "    denom = (f*K)**(0.5*(1-beta)) * (1 + (1-beta)**2/24 * torch.log(f/K)**2 +\\\n",
    "                                     (1-beta)**4/1920 * torch.log(f/K)**4)\n",
    "    \n",
    "    z = v/alpha * (f*K)**(0.5*(1-beta)) * np.log(f/K)\n",
    "    xi_z = torch.log((torch.sqrt(1 - 2 * rho * z + z**2) + z - rho)/(1-rho))\n",
    "    \n",
    "    return num/denom * z/xi_z\n",
    "\n",
    "def MinVol(pars, Ks, Fs, Ts, ivol):\n",
    "    return torch.mean((ivol - BlackVol(pars, Ks, Fs, Ts)).pow(2))\n",
    "\n",
    "def Calibrate(Fs, Ks, Ts, ivol, iters=1000):\n",
    "    pars = [torch.tensor([-1., -5., -3.], requires_grad=True)]\n",
    "    opt = torch.optim.SGD(pars, lr=0.1)\n",
    "    stored_pars = torch.zeros(iters, 3)\n",
    "    losses = []\n",
    "    for e in range(iters):\n",
    "        stored_pars[e, :] = pars[0]\n",
    "        loss = MinVol(pars, Ks, Fs, Ts, ivol)\n",
    "        opt.zero_grad()\n",
    "        loss.backward()\n",
    "        losses.append(loss.item())\n",
    "        opt.step() \n",
    "    \n",
    "    return pars[0].detach().numpy()\n",
    "\n",
    "def SABRSim(Np, Nt, S0, V0, sigma, rho, dt=1./252.):\n",
    "    dW = np.random.randn(Nt+1, Np) * np.sqrt(dt)\n",
    "    dZ = rho * dW + np.sqrt(1-rho**2) * np.random.randn(Nt+1, Np) * np.sqrt(dt)\n",
    "    \n",
    "    S = np.zeros((Nt+1, Np))\n",
    "    S[0] = S0\n",
    "    V = np.zeros((Nt+1, Np))\n",
    "    V[0] = V0\n",
    "    \n",
    "    for t in range(Nt):\n",
    "        S[t+1] = S[t] + V[t]*S[t]*dW[t]\n",
    "        V[t+1] = V[t] + sigma*V[t]*dZ[t]\n",
    "        \n",
    "    return S[1:]"
   ]
  },
  {
   "cell_type": "code",
   "execution_count": 11,
   "id": "67d9cf31",
   "metadata": {},
   "outputs": [],
   "source": [
    "logger = []\n",
    "full_logger = []\n",
    "SPY = pd.read_csv(\"./data/SPY_prices.csv\")\n",
    "SPY['Date'] = pd.to_datetime(SPY['Date'])\n",
    "Np = 10000\n",
    "ntrain = 252\n",
    "year = 2012\n",
    "options = pd.read_csv(\"./data/SPY_\" + str(year) + \".csv\")\n",
    "options.expiration = pd.to_datetime(options.expiration)\n",
    "options.quotedate = pd.to_datetime(options.quotedate)\n",
    "qday = options.quotedate.unique()[0]\n",
    "quote_price = SPY[SPY['Date']==qday].Close.item()\n",
    "options = options[(options.quotedate == qday) & (options.type=='call')]\n",
    "edays = options.expiration.sort_values().unique()\n",
    "testdays = (edays - qday)/np.timedelta64(1, \"D\")\n",
    "edays = edays[(testdays > 100) & (testdays < 365)]\n",
    "lastdays = FindLastTradingDays(SPY, edays)\n",
    "ntests = np.array([GetTradingDays(SPY, qday, \n",
    "                                  pd.Timestamp(ld)) for ld in lastdays])\n",
    "fulltest = ntests[-1]\n",
    "train_y = torch.FloatTensor(GetTrainingData(SPY, qday, ntrain).to_numpy())\n",
    "test_y = torch.FloatTensor(GetTrainingData(SPY, \n",
    "                                           pd.Timestamp(lastdays[-1]),\n",
    "                                           fulltest).to_numpy())\n",
    "full_x = torch.arange(ntrain+fulltest).type(torch.FloatTensor)\n",
    "full_x = full_x/252.\n",
    "train_x = full_x[:ntrain]\n",
    "test_x = full_x[ntrain:]\n",
    "\n",
    "## extract data for calibration ##\n",
    "ivol = torch.tensor(options.impliedvol.to_numpy())\n",
    "Fs = torch.tensor(options.underlying_last.to_numpy())\n",
    "Ks = torch.tensor(options.strike.to_numpy())\n",
    "starts = options.quotedate.dt.date.to_numpy()\n",
    "ends = options.expiration.dt.date.to_numpy()\n",
    "Ts = torch.tensor(([np.busday_count(qd, ed)/252. for qd, ed in zip(starts, ends)]))\n",
    "\n",
    "pars = Calibrate(Fs, Ks, Ts, ivol)\n",
    "v0 = np.exp(pars[0])\n",
    "1/(1 + np.exp(-pars[1]))\n",
    "rho = (2/(1 + np.exp(-pars[1])) - 1.)\n",
    "sigma = np.exp(pars[2])\n",
    "px_paths = SABRSim(Np, fulltest, quote_price, v0, sigma, rho)\n",
    "px_samples = torch.tensor(px_paths[ntests-1])"
   ]
  },
  {
   "cell_type": "code",
   "execution_count": 12,
   "id": "abc47786",
   "metadata": {},
   "outputs": [],
   "source": [
    "option_output = Pricer(torch.tensor(px_paths), options, edays, test_y[ntests-1],\n",
    "                       quote_price)"
   ]
  },
  {
   "cell_type": "code",
   "execution_count": 13,
   "id": "9bb8972b",
   "metadata": {},
   "outputs": [
    {
     "data": {
      "text/html": [
       "<div>\n",
       "<style scoped>\n",
       "    .dataframe tbody tr th:only-of-type {\n",
       "        vertical-align: middle;\n",
       "    }\n",
       "\n",
       "    .dataframe tbody tr th {\n",
       "        vertical-align: top;\n",
       "    }\n",
       "\n",
       "    .dataframe thead th {\n",
       "        text-align: right;\n",
       "    }\n",
       "</style>\n",
       "<table border=\"1\" class=\"dataframe\">\n",
       "  <thead>\n",
       "    <tr style=\"text-align: right;\">\n",
       "      <th></th>\n",
       "      <th>Expiry</th>\n",
       "      <th>Strike</th>\n",
       "      <th>Bid</th>\n",
       "      <th>Ask</th>\n",
       "      <th>Voltron</th>\n",
       "      <th>Return</th>\n",
       "      <th>ExpClose</th>\n",
       "      <th>QuoteClose</th>\n",
       "      <th>Year</th>\n",
       "      <th>Sample_Percentile</th>\n",
       "    </tr>\n",
       "  </thead>\n",
       "  <tbody>\n",
       "    <tr>\n",
       "      <th>0</th>\n",
       "      <td>2013-03-16</td>\n",
       "      <td>20.0</td>\n",
       "      <td>121.39</td>\n",
       "      <td>121.61</td>\n",
       "      <td>126.884545</td>\n",
       "      <td>136.729996</td>\n",
       "      <td>156.729996</td>\n",
       "      <td>141.449997</td>\n",
       "      <td>2013</td>\n",
       "      <td>0.781553</td>\n",
       "    </tr>\n",
       "    <tr>\n",
       "      <th>1</th>\n",
       "      <td>2013-03-16</td>\n",
       "      <td>25.0</td>\n",
       "      <td>116.39</td>\n",
       "      <td>116.61</td>\n",
       "      <td>121.884545</td>\n",
       "      <td>131.729996</td>\n",
       "      <td>156.729996</td>\n",
       "      <td>141.449997</td>\n",
       "      <td>2013</td>\n",
       "      <td>0.781553</td>\n",
       "    </tr>\n",
       "    <tr>\n",
       "      <th>2</th>\n",
       "      <td>2013-03-16</td>\n",
       "      <td>30.0</td>\n",
       "      <td>111.39</td>\n",
       "      <td>111.61</td>\n",
       "      <td>116.884545</td>\n",
       "      <td>126.729996</td>\n",
       "      <td>156.729996</td>\n",
       "      <td>141.449997</td>\n",
       "      <td>2013</td>\n",
       "      <td>0.781553</td>\n",
       "    </tr>\n",
       "    <tr>\n",
       "      <th>3</th>\n",
       "      <td>2013-03-16</td>\n",
       "      <td>35.0</td>\n",
       "      <td>106.39</td>\n",
       "      <td>106.61</td>\n",
       "      <td>111.884545</td>\n",
       "      <td>121.729996</td>\n",
       "      <td>156.729996</td>\n",
       "      <td>141.449997</td>\n",
       "      <td>2013</td>\n",
       "      <td>0.781553</td>\n",
       "    </tr>\n",
       "    <tr>\n",
       "      <th>4</th>\n",
       "      <td>2013-03-16</td>\n",
       "      <td>40.0</td>\n",
       "      <td>101.39</td>\n",
       "      <td>101.61</td>\n",
       "      <td>106.884545</td>\n",
       "      <td>116.729996</td>\n",
       "      <td>156.729996</td>\n",
       "      <td>141.449997</td>\n",
       "      <td>2013</td>\n",
       "      <td>0.781553</td>\n",
       "    </tr>\n",
       "    <tr>\n",
       "      <th>...</th>\n",
       "      <td>...</td>\n",
       "      <td>...</td>\n",
       "      <td>...</td>\n",
       "      <td>...</td>\n",
       "      <td>...</td>\n",
       "      <td>...</td>\n",
       "      <td>...</td>\n",
       "      <td>...</td>\n",
       "      <td>...</td>\n",
       "      <td>...</td>\n",
       "    </tr>\n",
       "    <tr>\n",
       "      <th>651</th>\n",
       "      <td>2013-09-30</td>\n",
       "      <td>169.0</td>\n",
       "      <td>0.33</td>\n",
       "      <td>0.42</td>\n",
       "      <td>0.000000</td>\n",
       "      <td>0.690002</td>\n",
       "      <td>169.690002</td>\n",
       "      <td>141.449997</td>\n",
       "      <td>2013</td>\n",
       "      <td>1.000000</td>\n",
       "    </tr>\n",
       "    <tr>\n",
       "      <th>652</th>\n",
       "      <td>2013-09-30</td>\n",
       "      <td>170.0</td>\n",
       "      <td>0.28</td>\n",
       "      <td>0.37</td>\n",
       "      <td>0.000000</td>\n",
       "      <td>0.000000</td>\n",
       "      <td>169.690002</td>\n",
       "      <td>141.449997</td>\n",
       "      <td>2013</td>\n",
       "      <td>1.000000</td>\n",
       "    </tr>\n",
       "    <tr>\n",
       "      <th>653</th>\n",
       "      <td>2013-09-30</td>\n",
       "      <td>175.0</td>\n",
       "      <td>0.14</td>\n",
       "      <td>0.21</td>\n",
       "      <td>0.000000</td>\n",
       "      <td>0.000000</td>\n",
       "      <td>169.690002</td>\n",
       "      <td>141.449997</td>\n",
       "      <td>2013</td>\n",
       "      <td>1.000000</td>\n",
       "    </tr>\n",
       "    <tr>\n",
       "      <th>654</th>\n",
       "      <td>2013-09-30</td>\n",
       "      <td>180.0</td>\n",
       "      <td>0.08</td>\n",
       "      <td>0.12</td>\n",
       "      <td>0.000000</td>\n",
       "      <td>0.000000</td>\n",
       "      <td>169.690002</td>\n",
       "      <td>141.449997</td>\n",
       "      <td>2013</td>\n",
       "      <td>1.000000</td>\n",
       "    </tr>\n",
       "    <tr>\n",
       "      <th>655</th>\n",
       "      <td>2013-09-30</td>\n",
       "      <td>185.0</td>\n",
       "      <td>0.04</td>\n",
       "      <td>0.08</td>\n",
       "      <td>0.000000</td>\n",
       "      <td>0.000000</td>\n",
       "      <td>169.690002</td>\n",
       "      <td>141.449997</td>\n",
       "      <td>2013</td>\n",
       "      <td>1.000000</td>\n",
       "    </tr>\n",
       "  </tbody>\n",
       "</table>\n",
       "<p>656 rows × 10 columns</p>\n",
       "</div>"
      ],
      "text/plain": [
       "        Expiry  Strike     Bid     Ask     Voltron      Return    ExpClose  \\\n",
       "0   2013-03-16    20.0  121.39  121.61  126.884545  136.729996  156.729996   \n",
       "1   2013-03-16    25.0  116.39  116.61  121.884545  131.729996  156.729996   \n",
       "2   2013-03-16    30.0  111.39  111.61  116.884545  126.729996  156.729996   \n",
       "3   2013-03-16    35.0  106.39  106.61  111.884545  121.729996  156.729996   \n",
       "4   2013-03-16    40.0  101.39  101.61  106.884545  116.729996  156.729996   \n",
       "..         ...     ...     ...     ...         ...         ...         ...   \n",
       "651 2013-09-30   169.0    0.33    0.42    0.000000    0.690002  169.690002   \n",
       "652 2013-09-30   170.0    0.28    0.37    0.000000    0.000000  169.690002   \n",
       "653 2013-09-30   175.0    0.14    0.21    0.000000    0.000000  169.690002   \n",
       "654 2013-09-30   180.0    0.08    0.12    0.000000    0.000000  169.690002   \n",
       "655 2013-09-30   185.0    0.04    0.08    0.000000    0.000000  169.690002   \n",
       "\n",
       "     QuoteClose  Year  Sample_Percentile  \n",
       "0    141.449997  2013           0.781553  \n",
       "1    141.449997  2013           0.781553  \n",
       "2    141.449997  2013           0.781553  \n",
       "3    141.449997  2013           0.781553  \n",
       "4    141.449997  2013           0.781553  \n",
       "..          ...   ...                ...  \n",
       "651  141.449997  2013           1.000000  \n",
       "652  141.449997  2013           1.000000  \n",
       "653  141.449997  2013           1.000000  \n",
       "654  141.449997  2013           1.000000  \n",
       "655  141.449997  2013           1.000000  \n",
       "\n",
       "[656 rows x 10 columns]"
      ]
     },
     "execution_count": 13,
     "metadata": {},
     "output_type": "execute_result"
    }
   ],
   "source": [
    "option_output"
   ]
  },
  {
   "cell_type": "code",
   "execution_count": 14,
   "id": "51771e55",
   "metadata": {},
   "outputs": [],
   "source": [
    "plt.plot(train_x, train_y)\n",
    "plt.plot(test_x, test_y)\n",
    "plt.plot(test_x, px_paths[:, :20], c='gray', alpha=0.5);"
   ]
  },
  {
   "cell_type": "code",
   "execution_count": 15,
   "id": "a9503b79",
   "metadata": {},
   "outputs": [
    {
     "data": {
      "text/plain": [
       "(206, 20)"
      ]
     },
     "execution_count": 15,
     "metadata": {},
     "output_type": "execute_result"
    }
   ],
   "source": [
    "px_paths[:, :20].shape"
   ]
  },
  {
   "cell_type": "code",
   "execution_count": 16,
   "id": "13d5c888",
   "metadata": {},
   "outputs": [
    {
     "data": {
      "text/plain": [
       "(206, 10000)"
      ]
     },
     "execution_count": 16,
     "metadata": {},
     "output_type": "execute_result"
    }
   ],
   "source": [
    "px_paths.shape"
   ]
  },
  {
   "cell_type": "code",
   "execution_count": null,
   "id": "5867b14f",
   "metadata": {},
   "outputs": [],
   "source": []
  }
 ],
 "metadata": {
  "kernelspec": {
   "display_name": "Python 3",
   "language": "python",
   "name": "python3"
  },
  "language_info": {
   "codemirror_mode": {
    "name": "ipython",
    "version": 3
   },
   "file_extension": ".py",
   "mimetype": "text/x-python",
   "name": "python",
   "nbconvert_exporter": "python",
   "pygments_lexer": "ipython3",
   "version": "3.8.3"
  }
 },
 "nbformat": 4,
 "nbformat_minor": 5
}
