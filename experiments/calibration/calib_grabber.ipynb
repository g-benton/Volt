{
 "cells": [
  {
   "cell_type": "code",
   "execution_count": 2,
   "id": "8d4521d7-e61a-4820-b704-4908e9210ee7",
   "metadata": {},
   "outputs": [],
   "source": [
    "import numpy as np\n",
    "import matplotlib.pyplot as plt\n",
    "from matplotlib.lines import Line2D\n",
    "import pandas as pd\n",
    "import torch\n",
    "import gpytorch\n",
    "from gpytorch.means import Mean\n",
    "import seaborn as sns\n",
    "import time\n",
    "import copy\n",
    "import sys\n",
    "import os\n",
    "\n",
    "sns.set_style('white')\n",
    "# style.use('whitegrid')\n",
    "palette = [\"#1b4079\", \"#C6DDF0\", \"#048A81\", \"#B9E28C\", \"#8C2155\", \"#AF7595\", \"#E6480F\", \"#FA9500\"]\n",
    "sns.set(palette = palette, font_scale=2.0, style=\"white\", rc={\"lines.linewidth\": 2.0})"
   ]
  },
  {
   "cell_type": "code",
   "execution_count": 2,
   "id": "3744a8e8-cb18-43ed-81c1-54aed694e292",
   "metadata": {},
   "outputs": [],
   "source": [
    "def LoadDat(dat, sym, start_idx, ntrain, ntest):\n",
    "    px = torch.FloatTensor(dat[dat.symbol == sym].close_price.to_numpy())\n",
    "    train_y = px[start_idx:ntrain+start_idx].squeeze()\n",
    "    test_y = px[start_idx + ntrain:start_idx + ntrain+ntest].squeeze()\n",
    "    return train_y, test_y\n",
    "\n",
    "def LoadSims(SPDR, sym, kernel, mean, k=100):\n",
    "    fpath = \"./saved-outputs/\" + SPDR + \"/\"\n",
    "    fname = sym + \"_\" + kernel + \"_\" + mean + str(k) + \".pt\"\n",
    "    \n",
    "    return torch.load(fpath + fname)"
   ]
  },
  {
   "cell_type": "code",
   "execution_count": 3,
   "id": "19d2a38f-0bb2-427f-bd7a-f9423b60e448",
   "metadata": {},
   "outputs": [
    {
     "name": "stdout",
     "output_type": "stream",
     "text": [
      "['XOM' 'CVX' 'EOG' 'COP' 'SLB']\n"
     ]
    }
   ],
   "source": [
    "hypers = torch.load(\"./saved-outputs/metadata.pt\")\n",
    "ntrain = hypers['ntrain']\n",
    "ntest = hypers['ntest']\n",
    "start_idxs = hypers['start_idxs']\n",
    "\n",
    "SPDR = \"XLE\"\n",
    "dat = pd.read_pickle(dpath + SPDR + \".pkl\")\n",
    "syms = dat.symbol.unique()\n",
    "print(syms)\n",
    "\n",
    "train_x = torch.arange(ntrain) * 1./252\n",
    "test_x = torch.arange(ntest) * 1./252 + train_x[-1] + train_x[1]\n",
    "percentiles = np.linspace(0.05, 0.95, 19)"
   ]
  },
  {
   "cell_type": "markdown",
   "id": "4257adde-7106-429c-b418-973dc0345424",
   "metadata": {},
   "source": [
    "## Examples"
   ]
  },
  {
   "cell_type": "code",
   "execution_count": 4,
   "id": "6ccf46b5-183d-400f-ace6-200a3d9d7844",
   "metadata": {},
   "outputs": [
    {
     "name": "stdout",
     "output_type": "stream",
     "text": [
      "['AAPL' 'MSFT' 'NVDA' 'V' 'PYPL']\n"
     ]
    }
   ],
   "source": [
    "hypers = torch.load(\"./saved-outputs/metadata.pt\")\n",
    "ntrain = hypers['ntrain']\n",
    "ntest = hypers['ntest']\n",
    "start_idxs = hypers['start_idxs']\n",
    "\n",
    "SPDR = \"XLK\"\n",
    "dat = pd.read_pickle(dpath + SPDR + \".pkl\")\n",
    "syms = dat.symbol.unique()\n",
    "print(syms)\n",
    "train_x = torch.arange(ntrain) * 1./252\n",
    "test_x = torch.arange(ntest) * 1./252 + train_x[-1] + train_x[1]"
   ]
  },
  {
   "cell_type": "code",
   "execution_count": 5,
   "id": "9704d083-ce47-4c5e-a5e6-029fa1effbd7",
   "metadata": {},
   "outputs": [],
   "source": [
    "def ECDF(sample_pxs, true_px):    \n",
    "    return (torch.sum(sample_pxs < true_px, 0)/sample_pxs.shape[0])\n",
    " \n",
    "def Calibration(pcts, percentile=0.95):\n",
    "    in_band = np.where((pcts < percentile))[0].shape[0]\n",
    "    return in_band/pcts.shape[0]\n",
    "\n",
    "def GetCalibration(kernel, mean, k=100, horizon=np.arange(75,100), logger=[], exp=True):\n",
    "    pcts = torch.zeros(len(syms), len(start_idxs), horizon.shape[0])\n",
    "    for sym_idx, sym in enumerate(syms):\n",
    "        \n",
    "        fpath = \"./saved-outputs/\" + SPDR + \"/\"\n",
    "        fname = sym + \"_\" + kernel + \"_\" + mean + str(k) + \".pt\"\n",
    "        if os.path.exists(fpath + fname):\n",
    "            for idx, start_idx in enumerate(start_idxs):\n",
    "                train_y, test_y = LoadDat(dat, sym, start_idx, ntrain, ntest)\n",
    "                preds = LoadSims(SPDR, sym, kernel, mean, k=k)[idx, :, horizon]\n",
    "                if exp:\n",
    "                    preds = preds.exp()\n",
    "                \n",
    "            \n",
    "    pcts = pcts.flatten()\n",
    "    percentiles = np.linspace(0.05, 0.95, 19)\n",
    "    log_name = kernel\n",
    "    for pct in percentiles:\n",
    "        clb = Calibration(pcts, pct)\n",
    "        logger.append([clb, np.round(pct, 2), log_name, mean, k])\n",
    "        \n",
    "    return logger"
   ]
  },
  {
   "cell_type": "code",
   "execution_count": 20,
   "id": "4ff19402-e7d7-49c0-890c-5b136265f3ff",
   "metadata": {},
   "outputs": [
    {
     "name": "stdout",
     "output_type": "stream",
     "text": [
      "['AMT' 'PLD' 'CCI' 'EQIX' 'PSA']\n"
     ]
    }
   ],
   "source": [
    "SPDR = \"XLRE\"\n",
    "dat = pd.read_pickle(dpath + SPDR + \".pkl\")\n",
    "syms = dat.symbol.unique()\n",
    "print(syms)\n",
    "horizon = np.arange(75, 100)\n",
    "train_x = torch.arange(ntrain) * 1./252\n",
    "test_x = torch.arange(ntest) * 1./252 + train_x[-1] + train_x[1]\n",
    "\n",
    "logger = []\n",
    "logger = GetCalibration('matern', 'ewma', 100, logger=logger, horizon=horizon)\n",
    "logger = GetCalibration('matern', 'ewma', 200, logger=logger, horizon=horizon)\n",
    "logger = GetCalibration('matern', 'ewma', 400, logger=logger, horizon=horizon)\n",
    "logger = GetCalibration('matern', 'dewma', 100, logger=logger, horizon=horizon)\n",
    "logger = GetCalibration('matern', 'dewma', 200, logger=logger, horizon=horizon)\n",
    "logger = GetCalibration('matern', 'dewma', 400, logger=logger, horizon=horizon)\n",
    "logger = GetCalibration('matern', 'tewma', 100, logger=logger, horizon=horizon)\n",
    "logger = GetCalibration('matern', 'tewma', 200, logger=logger, horizon=horizon)\n",
    "logger = GetCalibration('matern', 'tewma', 400, logger=logger, horizon=horizon)\n",
    "logger = GetCalibration('matern', 'constant', 100, logger=logger, horizon=horizon, exp=False)\n",
    "xlre_df = pd.DataFrame(logger)\n",
    "xlre_df.columns = [\"Calibration\", \"Percentile\", \"Type\", 'Mean', \"k\"]"
   ]
  },
  {
   "cell_type": "code",
   "execution_count": 22,
   "id": "49f482b5-af3b-4b77-b04d-82716d5b7afb",
   "metadata": {},
   "outputs": [],
   "source": [
    "pd.to_pickle(xlre_df, \"./new_matern_calib.pkl\")"
   ]
  },
  {
   "cell_type": "markdown",
   "id": "7b846b87-3132-42e1-9bff-f9d117176543",
   "metadata": {},
   "source": [
    "## Get NLL"
   ]
  },
  {
   "cell_type": "code",
   "execution_count": 94,
   "id": "63958d47-67f8-4298-94ab-3ff353b4f9ff",
   "metadata": {},
   "outputs": [],
   "source": [
    "def GetNLL(kernel, mean, k=100, horizon=np.arange(75,100), logger=[], exp=True):\n",
    "    N = 0\n",
    "    nll = 0.\n",
    "    for spdr_idx, spdr in enumerate(SPDRS):\n",
    "        dat = pd.read_pickle(dpath + spdr + \".pkl\")\n",
    "        syms = dat.symbol.unique()\n",
    "        for sym_idx, sym in enumerate(syms):\n",
    "            fpath = \"./saved-outputs/\" + spdr + \"/\"\n",
    "            fname = sym + \"_\" + kernel + \"_\" + mean + str(k) + \".pt\"\n",
    "            if os.path.exists(fpath + fname):\n",
    "                for idx, start_idx in enumerate(start_idxs):\n",
    "                    train_y, test_y = LoadDat(dat, sym, start_idx, ntrain, ntest)\n",
    "                    test_y = test_y[horizon]\n",
    "                    preds = LoadSims(spdr, sym, kernel, mean, k=k)[idx, :, horizon]\n",
    "                    if exp:\n",
    "                        preds = preds.exp() \n",
    "                    try:\n",
    "                        nll -= torch.distributions.Normal(preds.mean(0), preds.std(0)).log_prob(test_y).sum()\n",
    "                        N += test_y.numel()\n",
    "                    except:\n",
    "                        pass\n",
    "                        # print(\"Failed:\", spdr, sym, idx)\n",
    "\n",
    "    if N >= 0:\n",
    "        logger.append([nll.item(), N, kernel, mean, k])\n",
    "    return logger"
   ]
  },
  {
   "cell_type": "code",
   "execution_count": 105,
   "id": "8bc987c8-982a-4f1c-bd40-5d444e58e7e0",
   "metadata": {},
   "outputs": [],
   "source": [
    "SPDRS = [\"XLRE\", \"XLY\", \"XLF\", \"XLE\", \"XLK\"]\n",
    "horizon = np.arange(75, 100)\n",
    "train_x = torch.arange(ntrain) * 1./252\n",
    "test_x = torch.arange(ntest) * 1./252 + train_x[-1] + train_x[1]\n",
    "\n",
    "logger = []\n",
    "logger = GetNLL('matern', 'ewma', 100, logger=logger, horizon=horizon)\n",
    "logger = GetNLL('matern', 'ewma', 200, logger=logger, horizon=horizon)\n",
    "logger = GetNLL('matern', 'ewma', 400, logger=logger, horizon=horizon)\n",
    "logger = GetNLL('matern', 'dewma', 100, logger=logger, horizon=horizon)\n",
    "logger = GetNLL('matern', 'dewma', 200, logger=logger, horizon=horizon)\n",
    "logger = GetNLL('matern', 'dewma', 400, logger=logger, horizon=horizon)\n",
    "logger = GetNLL('matern', 'tewma', 100, logger=logger, horizon=horizon)\n",
    "logger = GetNLL('matern', 'tewma', 200, logger=logger, horizon=horizon)\n",
    "logger = GetNLL('matern', 'tewma', 400, logger=logger, horizon=horizon)\n",
    "logger = GetNLL('matern', 'constant', 100, logger=logger, horizon=horizon, exp=False)"
   ]
  },
  {
   "cell_type": "code",
   "execution_count": 106,
   "id": "dee5af9f-d8d1-4576-bc42-eba43d846e8e",
   "metadata": {},
   "outputs": [],
   "source": [
    "df = pd.DataFrame(logger)\n",
    "df.columns = [\"NLL\", \"N\", \"Kernel\", \"Mean\", \"K\"]"
   ]
  },
  {
   "cell_type": "code",
   "execution_count": 107,
   "id": "84d27556-5456-433b-945a-8107613c7d0f",
   "metadata": {},
   "outputs": [],
   "source": [
    "df['Mean_NLL'] = df[\"NLL\"]/df['N']"
   ]
  },
  {
   "cell_type": "code",
   "execution_count": 108,
   "id": "0d562366-4268-4bd2-a4ff-2e62797cbdb7",
   "metadata": {},
   "outputs": [
    {
     "data": {
      "text/html": [
       "<div>\n",
       "<style scoped>\n",
       "    .dataframe tbody tr th:only-of-type {\n",
       "        vertical-align: middle;\n",
       "    }\n",
       "\n",
       "    .dataframe tbody tr th {\n",
       "        vertical-align: top;\n",
       "    }\n",
       "\n",
       "    .dataframe thead th {\n",
       "        text-align: right;\n",
       "    }\n",
       "</style>\n",
       "<table border=\"1\" class=\"dataframe\">\n",
       "  <thead>\n",
       "    <tr style=\"text-align: right;\">\n",
       "      <th></th>\n",
       "      <th>NLL</th>\n",
       "      <th>N</th>\n",
       "      <th>Kernel</th>\n",
       "      <th>Mean</th>\n",
       "      <th>K</th>\n",
       "      <th>Mean_NLL</th>\n",
       "    </tr>\n",
       "  </thead>\n",
       "  <tbody>\n",
       "    <tr>\n",
       "      <th>0</th>\n",
       "      <td>6.726755e+04</td>\n",
       "      <td>4350</td>\n",
       "      <td>matern</td>\n",
       "      <td>ewma</td>\n",
       "      <td>100</td>\n",
       "      <td>15.463804</td>\n",
       "    </tr>\n",
       "    <tr>\n",
       "      <th>1</th>\n",
       "      <td>5.704342e+04</td>\n",
       "      <td>4200</td>\n",
       "      <td>matern</td>\n",
       "      <td>ewma</td>\n",
       "      <td>200</td>\n",
       "      <td>13.581766</td>\n",
       "    </tr>\n",
       "    <tr>\n",
       "      <th>2</th>\n",
       "      <td>6.180194e+04</td>\n",
       "      <td>6300</td>\n",
       "      <td>matern</td>\n",
       "      <td>ewma</td>\n",
       "      <td>400</td>\n",
       "      <td>9.809832</td>\n",
       "    </tr>\n",
       "    <tr>\n",
       "      <th>3</th>\n",
       "      <td>5.138177e+05</td>\n",
       "      <td>4800</td>\n",
       "      <td>matern</td>\n",
       "      <td>dewma</td>\n",
       "      <td>100</td>\n",
       "      <td>107.045358</td>\n",
       "    </tr>\n",
       "    <tr>\n",
       "      <th>4</th>\n",
       "      <td>1.109547e+05</td>\n",
       "      <td>4200</td>\n",
       "      <td>matern</td>\n",
       "      <td>dewma</td>\n",
       "      <td>200</td>\n",
       "      <td>26.417781</td>\n",
       "    </tr>\n",
       "    <tr>\n",
       "      <th>5</th>\n",
       "      <td>7.489109e+04</td>\n",
       "      <td>6450</td>\n",
       "      <td>matern</td>\n",
       "      <td>dewma</td>\n",
       "      <td>400</td>\n",
       "      <td>11.611021</td>\n",
       "    </tr>\n",
       "    <tr>\n",
       "      <th>6</th>\n",
       "      <td>3.585653e+06</td>\n",
       "      <td>5250</td>\n",
       "      <td>matern</td>\n",
       "      <td>tewma</td>\n",
       "      <td>100</td>\n",
       "      <td>682.981476</td>\n",
       "    </tr>\n",
       "    <tr>\n",
       "      <th>7</th>\n",
       "      <td>1.216625e+05</td>\n",
       "      <td>3900</td>\n",
       "      <td>matern</td>\n",
       "      <td>tewma</td>\n",
       "      <td>200</td>\n",
       "      <td>31.195507</td>\n",
       "    </tr>\n",
       "    <tr>\n",
       "      <th>8</th>\n",
       "      <td>7.496420e+04</td>\n",
       "      <td>6450</td>\n",
       "      <td>matern</td>\n",
       "      <td>tewma</td>\n",
       "      <td>400</td>\n",
       "      <td>11.622357</td>\n",
       "    </tr>\n",
       "    <tr>\n",
       "      <th>9</th>\n",
       "      <td>5.738497e+04</td>\n",
       "      <td>7500</td>\n",
       "      <td>matern</td>\n",
       "      <td>constant</td>\n",
       "      <td>100</td>\n",
       "      <td>7.651330</td>\n",
       "    </tr>\n",
       "  </tbody>\n",
       "</table>\n",
       "</div>"
      ],
      "text/plain": [
       "            NLL     N  Kernel      Mean    K    Mean_NLL\n",
       "0  6.726755e+04  4350  matern      ewma  100   15.463804\n",
       "1  5.704342e+04  4200  matern      ewma  200   13.581766\n",
       "2  6.180194e+04  6300  matern      ewma  400    9.809832\n",
       "3  5.138177e+05  4800  matern     dewma  100  107.045358\n",
       "4  1.109547e+05  4200  matern     dewma  200   26.417781\n",
       "5  7.489109e+04  6450  matern     dewma  400   11.611021\n",
       "6  3.585653e+06  5250  matern     tewma  100  682.981476\n",
       "7  1.216625e+05  3900  matern     tewma  200   31.195507\n",
       "8  7.496420e+04  6450  matern     tewma  400   11.622357\n",
       "9  5.738497e+04  7500  matern  constant  100    7.651330"
      ]
     },
     "execution_count": 108,
     "metadata": {},
     "output_type": "execute_result"
    }
   ],
   "source": [
    "df"
   ]
  },
  {
   "cell_type": "code",
   "execution_count": 110,
   "id": "733dcdd7-bc8a-4530-9ac5-eaa2e5f86085",
   "metadata": {},
   "outputs": [],
   "source": [
    "pd.to_pickle(df, \"./matern_nll.pkl\")"
   ]
  },
  {
   "cell_type": "code",
   "execution_count": 56,
   "id": "330cbdba-bf55-4bf6-814a-09d10a53fd04",
   "metadata": {},
   "outputs": [],
   "source": [
    "mean = torch.tensor([1., 5.])\n",
    "std = torch.tensor([1., 1.])\n",
    "nrml = torch.distributions.Normal(mean, std)"
   ]
  },
  {
   "cell_type": "code",
   "execution_count": 57,
   "id": "1582602c-8015-476a-b01a-a05d8aaf4a4a",
   "metadata": {},
   "outputs": [
    {
     "data": {
      "text/plain": [
       "tensor([0.3989, 0.3989])"
      ]
     },
     "execution_count": 57,
     "metadata": {},
     "output_type": "execute_result"
    }
   ],
   "source": [
    "nrml.log_prob(torch.tensor([1., 5.])).exp()"
   ]
  },
  {
   "cell_type": "code",
   "execution_count": 68,
   "id": "0f47d060-7f64-4537-b18f-7c5772df4bea",
   "metadata": {},
   "outputs": [],
   "source": [
    "preds, y = GetNLL('matern', 'tewma', 400, logger=logger, horizon=horizon)"
   ]
  },
  {
   "cell_type": "code",
   "execution_count": 69,
   "id": "e2403da1-c3b7-4d9d-8ae2-c00babfcfdcd",
   "metadata": {},
   "outputs": [
    {
     "data": {
      "text/plain": [
       "torch.Size([1000, 25])"
      ]
     },
     "execution_count": 69,
     "metadata": {},
     "output_type": "execute_result"
    }
   ],
   "source": [
    "preds.shape"
   ]
  },
  {
   "cell_type": "code",
   "execution_count": 73,
   "id": "ff68035a-39a5-44e1-bf6a-ecd9b0837bc9",
   "metadata": {},
   "outputs": [],
   "source": [
    "nll = 0."
   ]
  },
  {
   "cell_type": "code",
   "execution_count": 78,
   "id": "012b1b96-1afb-4f0a-8ab8-f96e92beacaf",
   "metadata": {},
   "outputs": [],
   "source": [
    "nll -= torch.distributions.Normal(preds.mean(0), preds.std(0)).log_prob(y).sum()"
   ]
  },
  {
   "cell_type": "code",
   "execution_count": 79,
   "id": "5a9241b1-a686-40fe-a378-cc219333f9bb",
   "metadata": {},
   "outputs": [
    {
     "data": {
      "text/plain": [
       "tensor(242.3718)"
      ]
     },
     "execution_count": 79,
     "metadata": {},
     "output_type": "execute_result"
    }
   ],
   "source": [
    "nll"
   ]
  },
  {
   "cell_type": "code",
   "execution_count": null,
   "id": "5cc3b61d-a2eb-4a33-9dfa-1049c9992345",
   "metadata": {},
   "outputs": [],
   "source": []
  }
 ],
 "metadata": {
  "kernelspec": {
   "display_name": "Python 3",
   "language": "python",
   "name": "python3"
  },
  "language_info": {
   "codemirror_mode": {
    "name": "ipython",
    "version": 3
   },
   "file_extension": ".py",
   "mimetype": "text/x-python",
   "name": "python",
   "nbconvert_exporter": "python",
   "pygments_lexer": "ipython3",
   "version": "3.8.8"
  }
 },
 "nbformat": 4,
 "nbformat_minor": 5
}
