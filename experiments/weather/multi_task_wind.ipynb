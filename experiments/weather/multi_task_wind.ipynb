{
 "cells": [
  {
   "cell_type": "code",
   "execution_count": 3,
   "id": "bad289dd-bf88-4240-a981-c8aa438e8385",
   "metadata": {},
   "outputs": [
    {
     "name": "stdout",
     "output_type": "stream",
     "text": [
      "Warning no robinhood utils.\n"
     ]
    }
   ],
   "source": [
    "import voltron \n",
    "import seaborn as sns\n",
    "import matplotlib.pyplot as plt\n",
    "import torch\n",
    "import pandas as pd\n",
    "import pickle as pkl\n",
    "import numpy as np\n",
    "\n",
    "import datetime\n",
    "import gpytorch\n",
    "from botorch.models import SingleTaskGP\n",
    "from botorch.optim.fit import fit_gpytorch_torch\n",
    "from gpytorch.likelihoods import GaussianLikelihood\n",
    "from gpytorch.mlls import ExactMarginalLogLikelihood\n",
    "from gpytorch.means import ConstantMean, LinearMean, Mean\n",
    "from gpytorch.kernels import SpectralMixtureKernel, MaternKernel, RBFKernel, ScaleKernel\n",
    "from voltron.train_utils import LearnGPCV, TrainVolModel, TrainVoltMagpieModel, TrainBasicModel\n",
    "from voltron.models import VoltMagpie\n",
    "from voltron.means import LogLinearMean, EWMAMean\n",
    "\n",
    "from voltron.rollout_utils import GeneratePrediction, Rollouts\n",
    "from voltron.data import make_ticker_list, DataGetter, GetStockHistory\n"
   ]
  },
  {
   "cell_type": "code",
   "execution_count": 4,
   "id": "1f101591-6812-48a7-b025-daac0dbd0c81",
   "metadata": {},
   "outputs": [],
   "source": [
    "from voltron.likelihoods import VolatilityGaussianLikelihood\n",
    "from voltron.kernels import BMKernel, VolatilityKernel\n",
    "from voltron.models import BMGP, VoltronGP\n",
    "from gpytorch.kernels import ScaleKernel, RBFKernel, MaternKernel\n",
    "from voltron.models import MultitaskVariationalGP\n",
    "from gpytorch.priors import LKJCovariancePrior, SmoothedBoxPrior\n",
    "from voltron.models import MultitaskBMGP\n",
    "from gpytorch.likelihoods import MultitaskGaussianLikelihood\n",
    "\n",
    "def get_and_fit_volmodel(train_x, pred_scale, train_iter=200,\n",
    "                        printing=False):\n",
    "    prior = LKJCovariancePrior(eta=5.0, n=pred_scale.shape[-1], sd_prior=SmoothedBoxPrior(0.05, 1.0))\n",
    "\n",
    "    vol_lh = MultitaskGaussianLikelihood(num_tasks=pred_scale.shape[-1])\n",
    "    vol_lh.noise.data = torch.tensor([1e-6])\n",
    "    vol_model = MultitaskBMGP(train_x, pred_scale.log(), vol_lh, prior=prior).to(train_x.device)\n",
    "\n",
    "    optimizer = torch.optim.Adam([\n",
    "        {'params': vol_model.parameters()},  # Includes GaussianLikelihood parameters\n",
    "    ], lr=0.01)\n",
    "\n",
    "    # \"Loss\" for GPs - the marginal log likelihood\n",
    "    mll = gpytorch.mlls.ExactMarginalLogLikelihood(vol_lh, vol_model)\n",
    "\n",
    "    for i in range(train_iter):\n",
    "        # Zero gradients from previous iteration\n",
    "        optimizer.zero_grad()\n",
    "        # Output from model\n",
    "        output = vol_model(train_x)\n",
    "        # Calc loss and backprop gradients\n",
    "        loss = -mll(output, pred_scale.log())\n",
    "        loss.backward()\n",
    "        if printing:\n",
    "            if i % 50 == 0:\n",
    "                print(loss.item(), vol_model.covar_module.data_covar_module.raw_vol.item())\n",
    "        optimizer.step()\n",
    "        \n",
    "    \n",
    "    return vol_model, vol_lh\n",
    "\n",
    "def get_and_fit_mtgpcv(train_x, log_returns, train_iter=200, printing=False):\n",
    "    likelihood = VolatilityGaussianLikelihood(batch_shape=[log_returns.shape[0]], param=\"exp\")\n",
    "    dt = train_x[1] - train_x[0]\n",
    "    # corresponds to ICM\n",
    "    model = MultitaskVariationalGP(\n",
    "        inducing_points=train_x, \n",
    "        covar_module=BMKernel().to(train_x.device), learn_inducing_locations=False,\n",
    "        num_tasks = log_returns.shape[0], \n",
    "        prior=LKJCovariancePrior(eta=5.0, n=log_returns.shape[0], sd_prior=SmoothedBoxPrior(0.05, 1.0))\n",
    "    )\n",
    "    model = model.to(train_x.device)\n",
    "    model.initialize_variational_parameters(likelihood=likelihood, x=train_x, y=log_returns.t())\n",
    "    \n",
    "    model = model.to(train_x.device)\n",
    "    likelihood = likelihood.to(train_x.device)\n",
    "\n",
    "\n",
    "    # Find optimal model hyperparameters\n",
    "    model.train()\n",
    "    likelihood.train()\n",
    "\n",
    "    # Use the adam optimizer\n",
    "    optimizer = torch.optim.Adam([\n",
    "        {\"params\": model.parameters()}, \n",
    "    ], lr=0.01)\n",
    "\n",
    "    # \"Loss\" for GPs - the marginal log likelihood\n",
    "    # num_data refers to the number of training datapoints\n",
    "    mll = gpytorch.mlls.VariationalELBO(likelihood, model, train_x.shape[0])\n",
    "    \n",
    "    batched_train_x = train_x#[:-1]\n",
    "    \n",
    "    print_every = 50\n",
    "    for i in range(train_iter):\n",
    "        # Zero backpropped gradients from previous iteration\n",
    "        optimizer.zero_grad()\n",
    "        # Get predictive output\n",
    "        output = model(batched_train_x)\n",
    "        # Calc loss and backprop gradients\n",
    "        loss = -mll(output, log_returns.t())\n",
    "        loss.backward()\n",
    "        if printing:\n",
    "            if i % print_every == 0:\n",
    "                print('Iter %d/%d - Loss: %.3f' % (i + 1, train_iter, loss.item()))\n",
    "        optimizer.step()\n",
    "        \n",
    "    model.eval();\n",
    "    likelihood.eval();\n",
    "    predictive = model(train_x)\n",
    "    # pred_scale = likelihood(predictive).scale.mean(0).detach()\n",
    "    samples = likelihood(predictive).scale.detach()\n",
    "    return samples.mean(0) / dt**0.5\n",
    "\n",
    "\n",
    "\n",
    "def get_and_fit_datamods(train_x, train_y, vols, vmod, vlh,\n",
    "                         train_iter=200, printing=False, k=200, mean_func='ewma'):\n",
    "    model_list = []\n",
    "    nmodel = vols.shape[-1]\n",
    "    for mdl_idx in range(nmodel):\n",
    "        mod = TrainVoltMagpieModel2(train_x, train_y[mdl_idx, :], vmod, vlh, vols[:, mdl_idx],\n",
    "                                  train_iters=train_iter, k=k, mean_func=mean_func)\n",
    "        model_list.append(mod)\n",
    "        \n",
    "    return model_list\n",
    "    \n",
    "\n",
    "def TrainVoltMagpieModel2(train_x, train_y, vol_model, vol_lh, vol_path,\n",
    "                   train_iters=1000, printing=False, k=25,\n",
    "                        mean_func=\"ewma\"):\n",
    "    \n",
    "    voltron_lh = gpytorch.likelihoods.GaussianLikelihood().to(train_x.device)\n",
    "    voltron = VoltMagpie(train_x, train_y.log(),\n",
    "                             voltron_lh, vol_path, k=k).to(train_x.device)\n",
    "    \n",
    "    if mean_func.lower() in [\"ewma\", \"dewma\", \"tewma\", \"meanrevert\"]:\n",
    "        # default voltmagpie is an ewma mean so we don't need to redefine anything\n",
    "        grad_flags = [True, False, False, False]\n",
    "        \n",
    "        if mean_func.lower() == \"dewma\":\n",
    "            voltron.mean_module = DEWMAMean(train_x, train_y.log(), k).to(train_x.device)\n",
    "        elif mean_func.lower() == 'tewma':\n",
    "            voltron.mean_module = TEWMAMean(train_x, train_y.log(), k).to(train_x.device)\n",
    "            \n",
    "    elif mean_func.lower()=='constant':\n",
    "        voltron.mean_module = gpytorch.means.ConstantMean().to(train_x.device)\n",
    "        grad_flags = [True, True, False, False, False]\n",
    "    elif mean_func.lower()=='loglinear':\n",
    "        voltron.mean_module = LogLinearMean(1).to(train_x.device)\n",
    "        voltron.mean_module.initialize_from_data(train_x, train_y.log())\n",
    "        grad_flags = [True, True, True, False, False, False]\n",
    "    elif mean_func.lower()=='linear':\n",
    "        voltron.mean_module = gpytorch.means.LinearMean(1).to(train_x.device)\n",
    "        grad_flags = [True, True, True, False, False, False]\n",
    "\n",
    "    voltron.likelihood.raw_noise.data = torch.tensor([1e-5]).to(train_x.device)\n",
    "#     voltron.vol_lh = vol_lh.to(train_x.device)\n",
    "#     voltron.vol_model = vol_model.to(train_x.device)\n",
    "    \n",
    "    for idx, p in enumerate(voltron.parameters()):\n",
    "        p.requires_grad = grad_flags[idx]\n",
    "\n",
    "    voltron.train();\n",
    "    voltron_lh.train();\n",
    "    voltron.vol_lh.train();\n",
    "    voltron.vol_model.train();\n",
    "\n",
    "    # Use the adam optimizer\n",
    "    optimizer = torch.optim.Adam([\n",
    "        {'params': voltron.parameters()},  # Includes GaussianLikelihood parameters\n",
    "    ], lr=0.1)\n",
    "\n",
    "    # \"Loss\" for GPs - the marginal log likelihood\n",
    "    mll = gpytorch.mlls.ExactMarginalLogLikelihood(voltron_lh, voltron)\n",
    "\n",
    "    print_every = 50\n",
    "    for i in range(train_iters):\n",
    "        # Zero gradients from previous iteration\n",
    "        optimizer.zero_grad()\n",
    "        # Output from model\n",
    "        output = voltron(train_x)\n",
    "        # Calc loss and backprop gradients\n",
    "        loss = -mll(output, train_y.log())\n",
    "        loss.backward()\n",
    "        if printing:\n",
    "            if i % print_every == 0:\n",
    "                print('Iter %d/%d - Loss: %.3f' % (i + 1, train_iters, loss.item()))\n",
    "        optimizer.step()\n",
    "        \n",
    "        \n",
    "    return voltron, voltron_lh"
   ]
  },
  {
   "cell_type": "markdown",
   "id": "68e7e0da-c65e-4943-b613-5d3ff02ab7d7",
   "metadata": {},
   "source": [
    "## Load In, Set Up Data"
   ]
  },
  {
   "cell_type": "code",
   "execution_count": 24,
   "id": "2901a851-07fc-4877-bb4e-319acb740ea4",
   "metadata": {},
   "outputs": [],
   "source": [
    "stn_names, stn_lonlat, stn_data = pkl.load(open(\"./wind_data.p\", 'rb'))"
   ]
  },
  {
   "cell_type": "code",
   "execution_count": 46,
   "id": "718c74a5-aed7-4efb-930c-e164227540ac",
   "metadata": {},
   "outputs": [],
   "source": [
    "lonlat = np.array(list(stn_lonlat.values()))\n",
    "full_dat = np.stack(list(stn_data.values()), -1).T\n",
    "full_dat[full_dat == -99.0] = 0.\n",
    "names = np.array(list(stn_names.values()))\n",
    "\n",
    "conus_idx = np.where(lonlat[:, 0] > -128)[0]\n",
    "lonlat = lonlat[conus_idx]\n",
    "full_dat = full_dat[conus_idx]\n",
    "names = names[conus_idx]\n",
    "\n",
    "keep_idx = np.where(full_dat.mean(-1) > 0.)[0]\n",
    "lonlat = lonlat[keep_idx]\n",
    "full_dat = full_dat[keep_idx]\n",
    "names = names[keep_idx]"
   ]
  },
  {
   "cell_type": "code",
   "execution_count": 47,
   "id": "c6465482-f591-48aa-a320-02485165e410",
   "metadata": {},
   "outputs": [],
   "source": [
    "full_dat += 1.\n",
    "returns = np.log(full_dat[..., 1:]/full_dat[...,:-1])"
   ]
  },
  {
   "cell_type": "code",
   "execution_count": 48,
   "id": "4fbcc881-0bbe-46de-960b-4dba6883b1b2",
   "metadata": {},
   "outputs": [
    {
     "data": {
      "text/plain": [
       "<matplotlib.collections.PathCollection at 0x7f9c006ae1f0>"
      ]
     },
     "execution_count": 48,
     "metadata": {},
     "output_type": "execute_result"
    },
    {
     "data": {
      "image/png": "[encoded data removed]",
      "text/plain": [
       "<Figure size 432x288 with 1 Axes>"
      ]
     },
     "metadata": {
      "needs_background": "light"
     },
     "output_type": "display_data"
    }
   ],
   "source": [
    "plt.scatter(lonlat[:, 0], lonlat[:, 1], c=full_dat.mean(-1))"
   ]
  },
  {
   "cell_type": "code",
   "execution_count": 51,
   "id": "0b555dc8-209f-4231-b485-df5c9f8507eb",
   "metadata": {},
   "outputs": [
    {
     "data": {
      "text/plain": [
       "64"
      ]
     },
     "execution_count": 51,
     "metadata": {},
     "output_type": "execute_result"
    }
   ],
   "source": [
    "np.argmax(full_dat.max(1))"
   ]
  },
  {
   "cell_type": "code",
   "execution_count": 52,
   "id": "4df7026b-64c9-49c4-9986-0d3bda5e78f6",
   "metadata": {},
   "outputs": [
    {
     "data": {
      "text/plain": [
       "array([-101.44,   42.07])"
      ]
     },
     "execution_count": 52,
     "metadata": {},
     "output_type": "execute_result"
    }
   ],
   "source": [
    "lonlat[64]"
   ]
  },
  {
   "cell_type": "code",
   "execution_count": 53,
   "id": "5afac95d-25e7-4845-98a9-a993183aa7f5",
   "metadata": {},
   "outputs": [
    {
     "data": {
      "text/plain": [
       "'NE_Whitman_5_ENE'"
      ]
     },
     "execution_count": 53,
     "metadata": {},
     "output_type": "execute_result"
    }
   ],
   "source": [
    "names[64]"
   ]
  },
  {
   "cell_type": "markdown",
   "id": "9d34b1b4-2d9c-40c9-91bf-a54306935223",
   "metadata": {},
   "source": [
    "## subset just for testing"
   ]
  },
  {
   "cell_type": "code",
   "execution_count": 9,
   "id": "b7f1b4fe-19b3-4cd8-adeb-bd136cad7f8a",
   "metadata": {},
   "outputs": [],
   "source": [
    "lon_keepers = np.logical_and(lonlat[:, 0] > -120, lonlat[:, 0] < -110)\n",
    "lat_keepers = np.logical_and(lonlat[:, 1] > 30, lonlat[:, 1] < 40)\n",
    "keepers = np.where(np.logical_and(lon_keepers, lat_keepers))[0]"
   ]
  },
  {
   "cell_type": "code",
   "execution_count": 10,
   "id": "1bbe2fc3-f5ae-4548-9d05-8369690a6d49",
   "metadata": {},
   "outputs": [
    {
     "data": {
      "text/plain": [
       "<matplotlib.collections.PathCollection at 0x7f9bfa9c9ac0>"
      ]
     },
     "execution_count": 10,
     "metadata": {},
     "output_type": "execute_result"
    },
    {
     "data": {
      "image/png": "[encoded data removed]",
      "text/plain": [
       "<Figure size 432x288 with 1 Axes>"
      ]
     },
     "metadata": {
      "needs_background": "light"
     },
     "output_type": "display_data"
    }
   ],
   "source": [
    "plt.scatter(lonlat[keepers, 0], lonlat[keepers, 1], c=full_dat[keepers, 500])"
   ]
  },
  {
   "cell_type": "markdown",
   "id": "09c1471c-13ef-4e3f-99bc-e6a7098e2701",
   "metadata": {},
   "source": [
    "## Train "
   ]
  },
  {
   "cell_type": "code",
   "execution_count": 11,
   "id": "8c47c5e9-3c72-41ed-a409-f57e1e7d571a",
   "metadata": {},
   "outputs": [],
   "source": [
    "ntrain = 300\n",
    "ntest = 100\n",
    "train_x = torch.arange(ntrain).type(torch.FloatTensor).cuda()\n",
    "test_x = torch.arange(ntrain, ntrain + ntest).type(torch.FloatTensor).cuda()\n",
    "train_y = torch.FloatTensor(full_dat[keepers, :ntrain+1]).cuda()\n",
    "test_y = torch.FloatTensor(full_dat[keepers, (ntrain):(ntrain + ntest)]).cuda()\n",
    "\n",
    "returns = torch.log(train_y[:, 1:]/train_y[:, :-1])"
   ]
  },
  {
   "cell_type": "code",
   "execution_count": 12,
   "id": "8770dd88-95f7-4e91-b88c-6f921041d0cf",
   "metadata": {},
   "outputs": [
    {
     "name": "stderr",
     "output_type": "stream",
     "text": [
      "/home/greg_b/miniconda3/envs/rpp/lib/python3.8/site-packages/torch/functional.py:445: UserWarning: torch.meshgrid: in an upcoming release, it will be required to pass the indexing argument. (Triggered internally at  /opt/conda/conda-bld/pytorch_1634272068694/work/aten/src/ATen/native/TensorShape.cpp:2157.)\n",
      "  return _VF.meshgrid(tensors, **kwargs)  # type: ignore[attr-defined]\n",
      "/home/greg_b/miniconda3/envs/rpp/lib/python3.8/site-packages/gpytorch/utils/cholesky.py:40: NumericalWarning: A not p.d., added jitter of 1.0e-06 to the diagonal\n",
      "  warnings.warn(\n",
      "/home/greg_b/miniconda3/envs/rpp/lib/python3.8/site-packages/gpytorch/distributions/multivariate_normal.py:259: NumericalWarning: Negative variance values detected. This is likely due to numerical instabilities. Rounding negative variances up to 1e-06.\n",
      "  warnings.warn(\n",
      "/home/greg_b/miniconda3/envs/rpp/lib/python3.8/site-packages/gpytorch/utils/cholesky.py:40: NumericalWarning: A not p.d., added jitter of 1.0e-08 to the diagonal\n",
      "  warnings.warn(\n"
     ]
    },
    {
     "name": "stdout",
     "output_type": "stream",
     "text": [
      "Iter 1/100 - Loss: 1598399.875\n",
      "Iter 51/100 - Loss: 19815.930\n"
     ]
    },
    {
     "name": "stderr",
     "output_type": "stream",
     "text": [
      "/home/greg_b/miniconda3/envs/rpp/lib/python3.8/site-packages/gpytorch/utils/cholesky.py:40: NumericalWarning: A not p.d., added jitter of 1.0e-07 to the diagonal\n",
      "  warnings.warn(\n"
     ]
    }
   ],
   "source": [
    "vol = get_and_fit_mtgpcv(train_x, returns, printing=True, train_iter=100)"
   ]
  },
  {
   "cell_type": "code",
   "execution_count": 13,
   "id": "9321bf48-57cd-4e7e-b937-537fe211ab21",
   "metadata": {},
   "outputs": [
    {
     "name": "stdout",
     "output_type": "stream",
     "text": [
      "1.310472846031189 -1.3862943649291992\n",
      "1.0877968072891235 -1.8699604272842407\n"
     ]
    }
   ],
   "source": [
    "vmod, vlh = get_and_fit_volmodel(train_x, vol, printing=True, train_iter=100)"
   ]
  },
  {
   "cell_type": "code",
   "execution_count": 19,
   "id": "326785cc-f1ec-4496-96b2-79fd8bc2af35",
   "metadata": {
    "tags": []
   },
   "outputs": [],
   "source": [
    "model_list = get_and_fit_datamods(train_x, train_y[:, 1:], vol, vmod, vlh,\n",
    "                                 train_iter=200)"
   ]
  },
  {
   "cell_type": "markdown",
   "id": "76de2aa6-f867-4e96-9a6d-0cdc377d6a28",
   "metadata": {},
   "source": [
    "## Simulate"
   ]
  },
  {
   "cell_type": "code",
   "execution_count": 20,
   "id": "afc89d71-671f-4364-ae1f-14b14e313068",
   "metadata": {},
   "outputs": [],
   "source": [
    "from gpytorch.utils.cholesky import psd_safe_cholesky\n",
    "from gpytorch.utils.cholesky import psd_safe_cholesky\n",
    "\n",
    "def GeneratePrediction(train_x, train_y, test_x, pred_vol, model, latent_mean=None, theta=0.5):\n",
    "    vol = model.log_vol_path.exp()\n",
    "    if model.train_x.ndim != test_x.ndim:\n",
    "        test_x_for_stack = test_x.unsqueeze(0).repeat(model.train_x.shape[0], 1)\n",
    "    else:\n",
    "        test_x_for_stack = test_x\n",
    "    if vol.ndim == 1:\n",
    "        vol_for_stack = vol.unsqueeze(0).repeat(pred_vol.shape[0], 1)\n",
    "    else:\n",
    "        vol_for_stack = vol\n",
    "\n",
    "    full_x = torch.cat((model.train_x, test_x_for_stack),dim=-1)\n",
    "    # print(\"vol stack = \", vol_for_stack.shape)\n",
    "    # print(\"pred_vol = \", pred_vol.shape)\n",
    "    full_vol = torch.cat((vol_for_stack, pred_vol),dim=-1)\n",
    "\n",
    "    test_x.repeat(2, test_x.numel())\n",
    "\n",
    "    idx_cut = model.train_x.shape[-1]\n",
    "    \n",
    "    cov_mat = model.covar_module(full_x.unsqueeze(-1), full_vol.unsqueeze(-1)).evaluate()\n",
    "    K_tr = cov_mat[..., :idx_cut, :idx_cut]\n",
    "    K_tr_te = cov_mat[..., :idx_cut, idx_cut:]\n",
    "    K_te = cov_mat[..., idx_cut:, idx_cut:]\n",
    "\n",
    "    train_mean = model.mean_module(model.train_x)\n",
    "    train_diffs = model.train_y.unsqueeze(-1) - train_mean.unsqueeze(-1)\n",
    "    # use psd cholesky if you must evaluate\n",
    "    K_tr_chol = psd_safe_cholesky(K_tr, jitter=1e-4)\n",
    "    pred_mean = K_tr_te.transpose(-1, -2).matmul(torch.cholesky_solve(train_diffs, K_tr_chol))\n",
    "    # print(voltron.mean_module(test_x).detach().T.shape)\n",
    "    # print(pred_mean.shape)\n",
    "    pred_mean += model.mean_module(test_x).detach().T.unsqueeze(-1)\n",
    "    if latent_mean is not None:\n",
    "        pred_mean -= theta * (pred_mean - latent_mean)\n",
    "\n",
    "    pred_cov = K_te - K_tr_te.transpose(-1, -2).matmul(torch.cholesky_solve(K_tr_te, K_tr_chol))\n",
    "\n",
    "    pred_cov_L = psd_safe_cholesky(pred_cov, jitter=1e-4)\n",
    "    samples = torch.randn(*cov_mat.shape[:-2], test_x.shape[0], 1).to(test_x.device)\n",
    "    samples = pred_cov_L @ samples\n",
    "\n",
    "    if pred_mean.ndim == 1:\n",
    "        return samples + pred_mean.unsqueeze(-1)\n",
    "    else:\n",
    "        return (samples + pred_mean).squeeze(-1)\n",
    "\n",
    "\n",
    "def SimulateMultiWind(train_x, train_y, test_x, model_list, vmod, nsample=10):\n",
    "    vmod.eval()\n",
    "    pred_vols = vmod(test_x).sample(sample_size=torch.Size((nsample)))\n",
    "    "
   ]
  },
  {
   "cell_type": "code",
   "execution_count": 23,
   "id": "c29b2a0f-1a99-4da2-a8fe-2bc02e05493e",
   "metadata": {},
   "outputs": [
    {
     "ename": "RuntimeError",
     "evalue": "Sizes of tensors must match except in dimension 1. Expected size 25 but got size 5 for tensor number 1 in the list.",
     "output_type": "error",
     "traceback": [
      "\u001b[0;31m---------------------------------------------------------------------------\u001b[0m",
      "\u001b[0;31mRuntimeError\u001b[0m                              Traceback (most recent call last)",
      "\u001b[0;32m<ipython-input-23-2fe6eec1fa70>\u001b[0m in \u001b[0;36m<module>\u001b[0;34m\u001b[0m\n\u001b[1;32m     19\u001b[0m         stack_y = torch.cat((train_stack_y, \n\u001b[1;32m     20\u001b[0m                              samples[:, :idx, mdl_idx].to(train_stack_y.device)), -1)\n\u001b[0;32m---> 21\u001b[0;31m         stack_vol = torch.cat((train_stack_vol, \n\u001b[0m\u001b[1;32m     22\u001b[0m                                pred_vol[:, :idx, mdl_idx].to(train_stack_vol.device)), -1)\n\u001b[1;32m     23\u001b[0m \u001b[0;34m\u001b[0m\u001b[0m\n",
      "\u001b[0;31mRuntimeError\u001b[0m: Sizes of tensors must match except in dimension 1. Expected size 25 but got size 5 for tensor number 1 in the list."
     ]
    }
   ],
   "source": [
    "nsample = 5\n",
    "nmodel = len(model_list)\n",
    "vmod.eval()\n",
    "pred_vol = vmod(test_x).sample(torch.Size((nsample,))).exp()\n",
    "\n",
    "\n",
    "ntest = test_x.numel()\n",
    "samples = torch.zeros(nsample, ntest, nmodel)\n",
    "for mdl_idx, (model, lh) in enumerate(model_list):\n",
    "    latent_mean = train_y.log()[mdl_idx, :].mean()\n",
    "    samples[:, 0, mdl_idx] = GeneratePrediction(train_x, train_y[mdl_idx, :], \n",
    "                                       test_x[0].unsqueeze(0), \n",
    "                                       pred_vol[:, 0, mdl_idx].unsqueeze(1),\n",
    "                                      model, latent_mean=None, theta=0.04).squeeze()\n",
    "    train_stack_y = train_y[mdl_idx, 1:].log().repeat(nsample, 1)\n",
    "    train_stack_vol = model.log_vol_path.repeat(nsample, 1)\n",
    "\n",
    "    for idx in range(1, ntest):\n",
    "        stack_y = torch.cat((train_stack_y, \n",
    "                             samples[:, :idx, mdl_idx].to(train_stack_y.device)), -1)\n",
    "        stack_vol = torch.cat((train_stack_vol, \n",
    "                               pred_vol[:, :idx, mdl_idx].to(train_stack_vol.device)), -1)\n",
    "        \n",
    "        rolling_x = torch.cat((train_x, test_x[:idx]))\n",
    "        model.mean_module.train_y = stack_y\n",
    "        model.mean_module.train_x = rolling_x\n",
    "\n",
    "        model.train_x = rolling_x\n",
    "        model.train_y = stack_y\n",
    "        model.log_vol_path = stack_vol\n",
    "        samples[:, idx, mdl_idx] = GeneratePrediction(train_x, train_y[mdl_idx, :], \n",
    "                                             test_x[idx].unsqueeze(0), \n",
    "                                           pred_vol[:, idx, mdl_idx].unsqueeze(-1),\n",
    "                                            model, latent_mean=None, theta=0.04).squeeze()\n",
    "\n"
   ]
  },
  {
   "cell_type": "code",
   "execution_count": null,
   "id": "a9c0bc48-8a4e-4dfa-8d71-abd32f40d235",
   "metadata": {},
   "outputs": [],
   "source": [
    "stn_idx = 0\n",
    "plt.plot(train_x.cpu(), train_y[stn_idx, 1:].cpu())\n",
    "plt.plot(test_x.cpu(), samples[..., stn_idx].cpu().T.exp(), color='gray')\n",
    "plt.ylim(0, 10)"
   ]
  },
  {
   "cell_type": "code",
   "execution_count": null,
   "id": "98d6f212-06bd-4e86-80e5-9689e30982e7",
   "metadata": {},
   "outputs": [],
   "source": []
  }
 ],
 "metadata": {
  "kernelspec": {
   "display_name": "Python 3",
   "language": "python",
   "name": "python3"
  },
  "language_info": {
   "codemirror_mode": {
    "name": "ipython",
    "version": 3
   },
   "file_extension": ".py",
   "mimetype": "text/x-python",
   "name": "python",
   "nbconvert_exporter": "python",
   "pygments_lexer": "ipython3",
   "version": "3.8.8"
  }
 },
 "nbformat": 4,
 "nbformat_minor": 5
}
