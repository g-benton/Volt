{
 "cells": [
  {
   "cell_type": "code",
   "execution_count": 9,
   "id": "graphic-administration",
   "metadata": {},
   "outputs": [
    {
     "data": {
      "text/plain": [
       "{'access_token': 'eyJ0eXAiOiJKV1QiLCJhbGciOiJSUzI1NiJ9.eyJleHAiOjE2MzI3NzA1NTIsInRva2VuIjoiWVlHU1pCM2tmNllLTk1LZUJ3YU8zVGFmWmw1U3JVIiwidXNlcl9pZCI6ImU2NWM4NGQ2LTliMzYtNDQ4Zi05MjYzLWEyZjUwODQzYjJjMSIsImRldmljZV9oYXNoIjoiOTNlMTc3NjAwNGE1ZDQ1YzZjMjBjYmMwYmExZjAwNDMiLCJzY29wZSI6ImludGVybmFsIiwiZGN0IjoxNjMxODgzODg3LCJzZXJ2aWNlX3JlY29yZHMiOlt7ImhhbHRlZCI6ZmFsc2UsInNlcnZpY2UiOiJudW1tdXNfdXMiLCJzaGFyZF9pZCI6MSwic3RhdGUiOiJhdmFpbGFibGUifSx7ImhhbHRlZCI6ZmFsc2UsInNlcnZpY2UiOiJicm9rZWJhY2tfdXMiLCJzaGFyZF9pZCI6MTAsInN0YXRlIjoiYXZhaWxhYmxlIn1dLCJ1c2VyX29yaWdpbiI6IlVTIiwib3B0aW9ucyI6dHJ1ZSwibGV2ZWwyX2FjY2VzcyI6ZmFsc2V9.EOkjTdiwNegKsb1FSa7XJ58RonXaSbqZIyJHQyU502M4gNZsQTNCw9wWm8mqTN1rbo_eZ1cGdvo9P9CIM04BjVh-KzOgdvCTYcsBZ_EcaRK7KGTxrdN7uh9moEY-dZxctQJ58cDU1Zp08D1NPn8ktHq83BFUhocMsqAoIzxy8_hCIY9skkq40PiJTaIV49UHmKF3DG1T8_wqk1hzATrok6v0-SBdAZq_R7shRRvvIWGdAk055qiXxtA66_bydQGD3aL_pNbuRaupe0i2ehJrp78ldPgellbKC5__Y0r-rye0FOtMz-yJzHHHxu460IqtSmJ9L44KSb8xerE4-76OVA',\n",
       " 'token_type': 'Bearer',\n",
       " 'expires_in': 86400,\n",
       " 'scope': 'internal',\n",
       " 'detail': 'logged in using authentication in robinhood.pickle',\n",
       " 'backup_code': None,\n",
       " 'refresh_token': 'APl9952WaZ0zV8VkJloUr3Ts9Ugr8E'}"
      ]
     },
     "execution_count": 9,
     "metadata": {},
     "output_type": "execute_result"
    }
   ],
   "source": [
    "import robin_stocks.robinhood as r\n",
    "import robin_stocks as rs\n",
    "import os \n",
    "\n",
    "robin_user = os.environ.get(\"robinhood_username\")\n",
    "robin_pass = os.environ.get(\"robinhood_password\")\n",
    "r.login(username=robin_user,\n",
    "         password=robin_pass,\n",
    "         expiresIn=86400,\n",
    "         by_sms=True)"
   ]
  },
  {
   "cell_type": "code",
   "execution_count": 35,
   "id": "european-bermuda",
   "metadata": {},
   "outputs": [
    {
     "ename": "NameError",
     "evalue": "name 'test' is not defined",
     "output_type": "error",
     "traceback": [
      "\u001b[0;31m---------------------------------------------------------------------------\u001b[0m",
      "\u001b[0;31mNameError\u001b[0m                                 Traceback (most recent call last)",
      "\u001b[0;32m<ipython-input-35-4e1243bd22c6>\u001b[0m in \u001b[0;36m<module>\u001b[0;34m\u001b[0m\n\u001b[0;32m----> 1\u001b[0;31m \u001b[0mtest\u001b[0m\u001b[0;34m\u001b[0m\u001b[0;34m\u001b[0m\u001b[0m\n\u001b[0m",
      "\u001b[0;31mNameError\u001b[0m: name 'test' is not defined"
     ]
    }
   ],
   "source": [
    "test"
   ]
  },
  {
   "cell_type": "code",
   "execution_count": 11,
   "id": "fresh-nothing",
   "metadata": {},
   "outputs": [
    {
     "name": "stdout",
     "output_type": "stream",
     "text": [
      "Getting the option ID failed. Perhaps the expiration date is wrong format, or the strike price is wrong.\n",
      "404 Client Error: Not Found for url: https://api.robinhood.com/marketdata/options/historicals/None/?span=week&interval=5minute&bounds=regular\n"
     ]
    }
   ],
   "source": [
    "r.options.get_option_historicals('AAPL',\n",
    "                                  '2020-07-17',\n",
    "                                  '350',\n",
    "                                  'call',\n",
    "                                  interval='5minute',\n",
    "                                  bounds='regular')"
   ]
  },
  {
   "cell_type": "code",
   "execution_count": 34,
   "id": "static-president",
   "metadata": {},
   "outputs": [
    {
     "name": "stdout",
     "output_type": "stream",
     "text": [
      "Getting the option ID failed. Perhaps the expiration date is wrong format, or the strike price is wrong.\n",
      "404 Client Error: Not Found for url: https://api.robinhood.com/marketdata/options/historicals/None/?span=day&interval=hour&bounds=regular\n"
     ]
    }
   ],
   "source": [
    "#!!! fill out the specific option information\n",
    "symbol = 'AAL'\n",
    "symbol_name = r.get_name_by_symbol(symbol)\n",
    "expirationDate = '2020-10-01' # format is YYYY-MM-DD.\n",
    "strike = \"11.5\"\n",
    "optionType = 'put' # available options are 'call' or 'put' or None.\n",
    "interval = 'hour' # available options are '5minute', '10minute', 'hour', 'day', and 'week'.\n",
    "span = 'day' # available options are 'day', 'week', 'year', and '5year'.\n",
    "bounds = 'regular' # available options are 'regular', 'trading', and 'extended'.\n",
    "info = None\n",
    "#!!!\n",
    "\n",
    "historicalData = r.get_option_historicals(symbol, expirationDate, strike, optionType, interval, span, bounds, info)"
   ]
  },
  {
   "cell_type": "code",
   "execution_count": 22,
   "id": "facial-qualification",
   "metadata": {},
   "outputs": [
    {
     "data": {
      "text/plain": [
       "'American Airlines'"
      ]
     },
     "execution_count": 22,
     "metadata": {},
     "output_type": "execute_result"
    }
   ],
   "source": [
    "symbol_name"
   ]
  },
  {
   "cell_type": "code",
   "execution_count": 18,
   "id": "resident-mongolia",
   "metadata": {},
   "outputs": [
    {
     "data": {
      "text/plain": [
       "'Apple'"
      ]
     },
     "execution_count": 18,
     "metadata": {},
     "output_type": "execute_result"
    }
   ],
   "source": [
    "symbol_name"
   ]
  },
  {
   "cell_type": "code",
   "execution_count": 32,
   "id": "noble-mason",
   "metadata": {},
   "outputs": [
    {
     "data": {
      "text/plain": [
       "{'id': '7364a16b-5080-4152-9647-1fee02ce2d48',\n",
       " 'symbol': 'AAL',\n",
       " 'can_open_position': True,\n",
       " 'cash_component': None,\n",
       " 'expiration_dates': ['2021-09-24',\n",
       "  '2021-10-01',\n",
       "  '2021-10-08',\n",
       "  '2021-10-15',\n",
       "  '2021-10-22',\n",
       "  '2021-10-29',\n",
       "  '2021-11-19',\n",
       "  '2021-12-17',\n",
       "  '2022-01-21',\n",
       "  '2022-02-18',\n",
       "  '2022-05-20',\n",
       "  '2022-06-17',\n",
       "  '2023-01-20',\n",
       "  '2023-06-16',\n",
       "  '2024-01-19'],\n",
       " 'trade_value_multiplier': '100.0000',\n",
       " 'underlying_instruments': [{'id': '1ef126f0-68da-4eeb-831b-04bb26c87b4b',\n",
       "   'instrument': 'https://api.robinhood.com/instruments/45ccb9d7-b9f0-40aa-833f-8381a4e5c3e5/',\n",
       "   'quantity': 100}],\n",
       " 'min_ticks': {'above_tick': '0.05',\n",
       "  'below_tick': '0.01',\n",
       "  'cutoff_price': '3.00'}}"
      ]
     },
     "execution_count": 32,
     "metadata": {},
     "output_type": "execute_result"
    }
   ],
   "source": [
    "r.options.get_chains('AAL')"
   ]
  },
  {
   "cell_type": "code",
   "execution_count": null,
   "id": "formed-louis",
   "metadata": {},
   "outputs": [],
   "source": []
  }
 ],
 "metadata": {
  "kernelspec": {
   "display_name": "Python 3",
   "language": "python",
   "name": "python3"
  },
  "language_info": {
   "codemirror_mode": {
    "name": "ipython",
    "version": 3
   },
   "file_extension": ".py",
   "mimetype": "text/x-python",
   "name": "python",
   "nbconvert_exporter": "python",
   "pygments_lexer": "ipython3",
   "version": "3.8.3"
  }
 },
 "nbformat": 4,
 "nbformat_minor": 5
}
