{
 "cells": [
  {
   "cell_type": "code",
   "execution_count": 27,
   "id": "6a73d38d",
   "metadata": {},
   "outputs": [],
   "source": [
    "import gpytorch\n",
    "import torch\n",
    "import matplotlib.pyplot as plt"
   ]
  },
  {
   "cell_type": "code",
   "execution_count": 28,
   "id": "27b0edfe",
   "metadata": {},
   "outputs": [],
   "source": [
    "from gpytorch.kernels import Kernel"
   ]
  },
  {
   "cell_type": "code",
   "execution_count": 29,
   "id": "a61c0725",
   "metadata": {},
   "outputs": [],
   "source": [
    "from gpytorch.distributions import MultivariateNormal\n",
    "from gpytorch.kernels import MaternKernel\n",
    "from gpytorch.means import ZeroMean"
   ]
  },
  {
   "cell_type": "code",
   "execution_count": 30,
   "id": "4fc6679d",
   "metadata": {},
   "outputs": [],
   "source": [
    "class VolatilityKernel(Kernel):\n",
    "    has_lengthscale = False\n",
    "    \n",
    "    def __init__(self, num_locs=50, t_max=3):\n",
    "        super().__init__()\n",
    "        self.num_locs = num_locs\n",
    "        self.register_parameter(\"latent_f\", torch.nn.Parameter(torch.randn(self.num_locs)))\n",
    "        self.bounds = torch.arange(0, t_max, t_max / self.num_locs)\n",
    "        # self.prior_kernel = MaternKernel()\n",
    "        # self.prior_mean = ZeroMean()\n",
    "        \n",
    "        \n",
    "\n",
    "    def forward(self, x1, x2, diag=False, **params):\n",
    "        last_dim_is_batch = params.get(\"last_dim_is_batch\", False)\n",
    "        x1_ = x1.unsqueeze(-1)\n",
    "        int_bounds = torch.minimum(x1_, x2).squeeze(-1)\n",
    "        \n",
    "        x1_ = x1\n",
    "        x2_ = x1 if x2 is None else x2\n",
    "        if last_dim_is_batch:\n",
    "            x1_ = x1_.transpose(-1, -2).unsqueeze(-1)\n",
    "            x2_ = x2_.transpose(-1, -2).unsqueeze(-1)\n",
    "            \n",
    "        x1_ = x1_.unsqueeze(-1)\n",
    "        \n",
    "        int_bounds = torch.minimum(x1_, x2_)\n",
    "        int_values = ((int_bounds >= self.bounds) * self.latent_f.pow(2.0))\n",
    "        int_x = self.bounds.expand_as(int_values)\n",
    "        \n",
    "        res = torch.trapz(y=int_values, x=int_x)\n",
    "        if diag:\n",
    "            return torch.diagonal(res, dim1=-2, dim2=-1)\n",
    "        else:\n",
    "            return res"
   ]
  },
  {
   "cell_type": "code",
   "execution_count": null,
   "id": "ebb5a437",
   "metadata": {},
   "outputs": [],
   "source": []
  },
  {
   "cell_type": "code",
   "execution_count": 31,
   "id": "b975cf7b",
   "metadata": {},
   "outputs": [],
   "source": [
    "class SpectralModel(gpytorch.models.ExactGP):\n",
    "    def __init__(self, train_x, train_y, likelihood, **kwargs):\n",
    "        super(SpectralModel, self).__init__(train_x, train_y, likelihood)\n",
    "\n",
    "        self.mean_module = gpytorch.means.ConstantMean()\n",
    "\n",
    "        self.covar_module = VolatilityKernel(**kwargs)\n",
    "\n",
    "    def forward(self, x):\n",
    "        mean_x = self.mean_module(x)\n",
    "        covar_x = self.covar_module(x)\n",
    "        return gpytorch.distributions.MultivariateNormal(mean_x, covar_x)"
   ]
  },
  {
   "cell_type": "code",
   "execution_count": 32,
   "id": "e74881e5",
   "metadata": {},
   "outputs": [],
   "source": [
    "import numpy as np"
   ]
  },
  {
   "cell_type": "code",
   "execution_count": 131,
   "id": "d889d51c",
   "metadata": {},
   "outputs": [],
   "source": [
    "T = 1. ## years\n",
    "Nt = 200 ## number of time steps\n",
    "Np = 10000 ## number of paths to simulate\n",
    "dt = T/Nt\n",
    "ts = np.linspace(0, T, Nt+1)\n",
    "\n",
    "S0 = 100\n",
    "v0 = 0.2\n",
    "alpha = 0.75 ## vol of vol\n",
    "\n",
    "\n",
    "## simulate brownian motions ##\n",
    "dW = np.random.randn(Nt+1, Np) * np.sqrt(dt)\n",
    "dZ = np.random.RandomState(seed=89).randn(Nt+1) * np.sqrt(dt) ## using only one volatility path to generate each spot path\n",
    "\n",
    "W = np.cumsum(dW, 0) \n",
    "Z = np.cumsum(dZ)\n",
    "\n",
    "\n",
    "S = np.zeros((Nt+1, Np))\n",
    "v = np.zeros(Nt+1) ## we'll use the same vol path for all spot paths\n",
    "\n",
    "S[0] = S0\n",
    "v[0] = v0\n",
    "\n",
    "for t in range(Nt):\n",
    "    S[t+1] = S[t] + v[t]*S[t]*dW[t]\n",
    "    v[t+1] = v[t] + alpha * v[t] * dZ[t]"
   ]
  },
  {
   "cell_type": "code",
   "execution_count": 132,
   "id": "15d500ea",
   "metadata": {},
   "outputs": [
    {
     "data": {
      "text/plain": [
       "(201, 10000)"
      ]
     },
     "execution_count": 132,
     "metadata": {},
     "output_type": "execute_result"
    }
   ],
   "source": [
    "S.shape"
   ]
  },
  {
   "cell_type": "code",
   "execution_count": 133,
   "id": "8dcaeb17",
   "metadata": {},
   "outputs": [],
   "source": [
    "train_y = torch.tensor(S).float().log()"
   ]
  },
  {
   "cell_type": "code",
   "execution_count": 162,
   "id": "343a64f6",
   "metadata": {},
   "outputs": [],
   "source": [
    "train_x = torch.tensor(ts).float()"
   ]
  },
  {
   "cell_type": "code",
   "execution_count": 163,
   "id": "a57c3e25",
   "metadata": {},
   "outputs": [
    {
     "data": {
      "text/plain": [
       "[<matplotlib.lines.Line2D at 0x7fca54333690>]"
      ]
     },
     "execution_count": 163,
     "metadata": {},
     "output_type": "execute_result"
    },
    {
     "data": {
      "image/png": "[encoded data removed]",
      "text/plain": [
       "<Figure size 432x288 with 1 Axes>"
      ]
     },
     "metadata": {
      "needs_background": "light"
     },
     "output_type": "display_data"
    }
   ],
   "source": [
    "plt.plot(torch.tensor(ts).float(), v)"
   ]
  },
  {
   "cell_type": "code",
   "execution_count": 164,
   "id": "e7623b1f",
   "metadata": {},
   "outputs": [
    {
     "data": {
      "text/plain": [
       "<matplotlib.image.AxesImage at 0x7fca5432ab10>"
      ]
     },
     "execution_count": 164,
     "metadata": {},
     "output_type": "execute_result"
    },
    {
     "data": {
      "image/png": "[encoded data removed]",
      "text/plain": [
       "<Figure size 432x288 with 1 Axes>"
      ]
     },
     "metadata": {
      "needs_background": "light"
     },
     "output_type": "display_data"
    }
   ],
   "source": [
    "plt.imshow(np.cov(train_y))"
   ]
  },
  {
   "cell_type": "code",
   "execution_count": 165,
   "id": "00dbfd6c",
   "metadata": {},
   "outputs": [],
   "source": [
    "kernel = VolatilityKernel(num_locs=v.shape[0])\n",
    "kernel.latent_f.data = torch.tensor(v).float()\n",
    "kernel.bounds = torch.tensor(ts).float()"
   ]
  },
  {
   "cell_type": "code",
   "execution_count": 166,
   "id": "a991e163",
   "metadata": {},
   "outputs": [],
   "source": [
    "diagonal = kernel(torch.tensor(ts).float()).diag()"
   ]
  },
  {
   "cell_type": "code",
   "execution_count": 167,
   "id": "56b4c341",
   "metadata": {},
   "outputs": [
    {
     "data": {
      "text/plain": [
       "[<matplotlib.lines.Line2D at 0x7fca5f1c9c10>]"
      ]
     },
     "execution_count": 167,
     "metadata": {},
     "output_type": "execute_result"
    },
    {
     "data": {
      "image/png": "[encoded data removed]",
      "text/plain": [
       "<Figure size 432x288 with 1 Axes>"
      ]
     },
     "metadata": {
      "needs_background": "light"
     },
     "output_type": "display_data"
    }
   ],
   "source": [
    "plt.plot(np.diag(np.cov(train_y)))\n",
    "plt.plot(diagonal.detach())"
   ]
  },
  {
   "cell_type": "code",
   "execution_count": 168,
   "id": "9f240313",
   "metadata": {},
   "outputs": [],
   "source": [
    "from gpytorch.likelihoods import GaussianLikelihood"
   ]
  },
  {
   "cell_type": "code",
   "execution_count": 169,
   "id": "d4e767e9",
   "metadata": {},
   "outputs": [],
   "source": [
    "likelihood = GaussianLikelihood()\n",
    "model = SpectralModel(\n",
    "    train_x, \n",
    "    train_y[:,0], \n",
    "    t_max = 200, \n",
    "    num_locs = v.shape[0], \n",
    "    likelihood = likelihood\n",
    ")"
   ]
  },
  {
   "cell_type": "code",
   "execution_count": 170,
   "id": "f4b18531",
   "metadata": {},
   "outputs": [
    {
     "data": {
      "text/plain": [
       "torch.Size([201])"
      ]
     },
     "execution_count": 170,
     "metadata": {},
     "output_type": "execute_result"
    }
   ],
   "source": [
    "train_y[:,0].shape"
   ]
  },
  {
   "cell_type": "code",
   "execution_count": 180,
   "id": "f5766996",
   "metadata": {},
   "outputs": [],
   "source": [
    "model.mean_module.constant.data = train_y[0,0]"
   ]
  },
  {
   "cell_type": "code",
   "execution_count": 189,
   "id": "082b12d4",
   "metadata": {},
   "outputs": [],
   "source": [
    "model.covar_module.latent_f.data = torch.tensor(v).float()\n",
    "model.covar_module.bounds = torch.tensor(ts).float()"
   ]
  },
  {
   "cell_type": "code",
   "execution_count": 190,
   "id": "b638c4d0",
   "metadata": {},
   "outputs": [],
   "source": [
    "# kernel = MaternKernel()\n",
    "# kernel.lengthscale.data = 100 * torch.ones(1)\n",
    "# prior_dist = MultivariateNormal(\n",
    "#     torch.zeros_like(model.covar_module.bounds),\n",
    "#     kernel(model.covar_module.bounds)\n",
    "# )\n",
    "# model.covar_module.latent_f.data = prior_dist.rsample()\n",
    "# # model.covar_module.latent_f.data = torch.tensor(V).float().pow(0.5)"
   ]
  },
  {
   "cell_type": "code",
   "execution_count": 191,
   "id": "a8706c92",
   "metadata": {},
   "outputs": [
    {
     "data": {
      "text/plain": [
       "[<matplotlib.lines.Line2D at 0x7fca5bb1ec90>]"
      ]
     },
     "execution_count": 191,
     "metadata": {},
     "output_type": "execute_result"
    },
    {
     "data": {
      "image/png": "[encoded data removed]",
      "text/plain": [
       "<Figure size 432x288 with 1 Axes>"
      ]
     },
     "metadata": {
      "needs_background": "light"
     },
     "output_type": "display_data"
    }
   ],
   "source": [
    "plt.plot(model.covar_module.bounds, model.covar_module.latent_f.data.pow(2.0) )"
   ]
  },
  {
   "cell_type": "code",
   "execution_count": 192,
   "id": "82c222f8",
   "metadata": {},
   "outputs": [
    {
     "data": {
      "text/plain": [
       "<matplotlib.colorbar.Colorbar at 0x7fca5bc59f50>"
      ]
     },
     "execution_count": 192,
     "metadata": {},
     "output_type": "execute_result"
    },
    {
     "data": {
      "image/png": "[encoded data removed]",
      "text/plain": [
       "<Figure size 432x288 with 2 Axes>"
      ]
     },
     "metadata": {
      "needs_background": "light"
     },
     "output_type": "display_data"
    }
   ],
   "source": [
    "im = model.covar_module(train_x)\n",
    "f = plt.imshow(im.evaluate().detach())\n",
    "plt.colorbar(f)"
   ]
  },
  {
   "cell_type": "code",
   "execution_count": 193,
   "id": "1f7b97c7",
   "metadata": {},
   "outputs": [
    {
     "data": {
      "text/plain": [
       "GaussianLikelihood(\n",
       "  (noise_covar): HomoskedasticNoise(\n",
       "    (raw_noise_constraint): GreaterThan(1.000E-04)\n",
       "  )\n",
       ")"
      ]
     },
     "execution_count": 193,
     "metadata": {},
     "output_type": "execute_result"
    }
   ],
   "source": [
    "model.eval()\n",
    "likelihood.eval()"
   ]
  },
  {
   "cell_type": "code",
   "execution_count": 194,
   "id": "48249044",
   "metadata": {},
   "outputs": [
    {
     "name": "stdout",
     "output_type": "stream",
     "text": [
      "Automatic pdb calling has been turned ON\n"
     ]
    }
   ],
   "source": [
    "%pdb"
   ]
  },
  {
   "cell_type": "code",
   "execution_count": 195,
   "id": "cd425124",
   "metadata": {},
   "outputs": [],
   "source": [
    "test_x = torch.linspace(0, 2, 300).unsqueeze(-1)\n",
    "pred = model(test_x)"
   ]
  },
  {
   "cell_type": "code",
   "execution_count": 196,
   "id": "33c7a183",
   "metadata": {},
   "outputs": [
    {
     "name": "stderr",
     "output_type": "stream",
     "text": [
      "/Users/wesleymaddox/Documents/GitHub/wjm_gpytorch/gpytorch/utils/cholesky.py:83: NumericalWarning: A not p.d., added jitter of 1.0e-06 to the diagonal\n",
      "  warnings.warn(f\"A not p.d., added jitter of {jitter_new:.1e} to the diagonal\", NumericalWarning)\n"
     ]
    },
    {
     "data": {
      "text/plain": [
       "<matplotlib.collections.PathCollection at 0x7fca5769c150>"
      ]
     },
     "execution_count": 196,
     "metadata": {},
     "output_type": "execute_result"
    },
    {
     "data": {
      "image/png": "[encoded data removed]",
      "text/plain": [
       "<Figure size 432x288 with 1 Axes>"
      ]
     },
     "metadata": {
      "needs_background": "light"
     },
     "output_type": "display_data"
    }
   ],
   "source": [
    "plt.plot(test_x, pred.mean.detach())\n",
    "plt.fill_between(\n",
    "    test_x.view(-1),\n",
    "    *[x.detach().view(-1) for x in pred.confidence_region()],\n",
    "    alpha = 0.3\n",
    ")\n",
    "plt.plot(test_x, pred.sample(), color = \"green\")\n",
    "plt.scatter(torch.tensor(ts).float().view(-1,1), train_y[:,0], color = \"red\")"
   ]
  },
  {
   "cell_type": "code",
   "execution_count": null,
   "id": "82f7943f",
   "metadata": {},
   "outputs": [],
   "source": []
  }
 ],
 "metadata": {
  "kernelspec": {
   "display_name": "Python 3.7.4 64-bit ('base': conda)",
   "language": "python",
   "name": "python37464bitbaseconda52eab690427c4f7ea56588deee120c46"
  },
  "language_info": {
   "codemirror_mode": {
    "name": "ipython",
    "version": 3
   },
   "file_extension": ".py",
   "mimetype": "text/x-python",
   "name": "python",
   "nbconvert_exporter": "python",
   "pygments_lexer": "ipython3",
   "version": "3.7.7"
  }
 },
 "nbformat": 4,
 "nbformat_minor": 5
}
